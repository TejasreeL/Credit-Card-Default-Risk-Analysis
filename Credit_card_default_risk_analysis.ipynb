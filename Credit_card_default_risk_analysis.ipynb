{
  "nbformat": 4,
  "nbformat_minor": 0,
  "metadata": {
    "colab": {
      "provenance": [],
      "authorship_tag": "ABX9TyO2IfFNRlwPt6XO0QmHz/fw",
      "include_colab_link": true
    },
    "kernelspec": {
      "name": "python3",
      "display_name": "Python 3"
    },
    "language_info": {
      "name": "python"
    }
  },
  "cells": [
    {
      "cell_type": "markdown",
      "metadata": {
        "id": "view-in-github",
        "colab_type": "text"
      },
      "source": [
        "<a href=\"https://colab.research.google.com/github/TejasreeL/Credit-Card-Default-Risk-Analysis/blob/main/Credit_card_default_risk_analysis.ipynb\" target=\"_parent\"><img src=\"https://colab.research.google.com/assets/colab-badge.svg\" alt=\"Open In Colab\"/></a>"
      ]
    },
    {
      "cell_type": "code",
      "execution_count": 69,
      "metadata": {
        "id": "emHJCcxUjwEt"
      },
      "outputs": [],
      "source": [
        "import pandas as pd"
      ]
    },
    {
      "cell_type": "code",
      "source": [
        "df = pd.read_csv('defaults.csv')"
      ],
      "metadata": {
        "id": "-0OqHwq9zEK9"
      },
      "execution_count": null,
      "outputs": []
    },
    {
      "cell_type": "code",
      "source": [
        "df.head()"
      ],
      "metadata": {
        "colab": {
          "base_uri": "https://localhost:8080/",
          "height": 325
        },
        "id": "df2yhwfy7Nn4",
        "outputId": "df119bad-5e12-464c-de57-80b622aadc4b"
      },
      "execution_count": null,
      "outputs": [
        {
          "output_type": "execute_result",
          "data": {
            "text/plain": [
              "  Unnamed: 0         X1   X2         X3        X4   X5     X6     X7     X8  \\\n",
              "0         ID  LIMIT_BAL  SEX  EDUCATION  MARRIAGE  AGE  PAY_0  PAY_2  PAY_3   \n",
              "1          1      20000    2          2         1   24      2      2     -1   \n",
              "2          2     120000    2          2         2   26     -1      2      0   \n",
              "3          3      90000    2          2         2   34      0      0      0   \n",
              "4          4      50000    2          2         1   37      0      0      0   \n",
              "\n",
              "      X9  ...        X15        X16        X17       X18       X19       X20  \\\n",
              "0  PAY_4  ...  BILL_AMT4  BILL_AMT5  BILL_AMT6  PAY_AMT1  PAY_AMT2  PAY_AMT3   \n",
              "1     -1  ...          0          0          0         0       689         0   \n",
              "2      0  ...       3272       3455       3261         0      1000      1000   \n",
              "3      0  ...      14331      14948      15549      1518      1500      1000   \n",
              "4      0  ...      28314      28959      29547      2000      2019      1200   \n",
              "\n",
              "        X21       X22       X23                           Y  \n",
              "0  PAY_AMT4  PAY_AMT5  PAY_AMT6  default payment next month  \n",
              "1         0         0         0                           1  \n",
              "2      1000         0      2000                           1  \n",
              "3      1000      1000      5000                           0  \n",
              "4      1100      1069      1000                           0  \n",
              "\n",
              "[5 rows x 25 columns]"
            ],
            "text/html": [
              "\n",
              "  <div id=\"df-0461394e-96fb-480c-97ec-c4fac9091bf3\" class=\"colab-df-container\">\n",
              "    <div>\n",
              "<style scoped>\n",
              "    .dataframe tbody tr th:only-of-type {\n",
              "        vertical-align: middle;\n",
              "    }\n",
              "\n",
              "    .dataframe tbody tr th {\n",
              "        vertical-align: top;\n",
              "    }\n",
              "\n",
              "    .dataframe thead th {\n",
              "        text-align: right;\n",
              "    }\n",
              "</style>\n",
              "<table border=\"1\" class=\"dataframe\">\n",
              "  <thead>\n",
              "    <tr style=\"text-align: right;\">\n",
              "      <th></th>\n",
              "      <th>Unnamed: 0</th>\n",
              "      <th>X1</th>\n",
              "      <th>X2</th>\n",
              "      <th>X3</th>\n",
              "      <th>X4</th>\n",
              "      <th>X5</th>\n",
              "      <th>X6</th>\n",
              "      <th>X7</th>\n",
              "      <th>X8</th>\n",
              "      <th>X9</th>\n",
              "      <th>...</th>\n",
              "      <th>X15</th>\n",
              "      <th>X16</th>\n",
              "      <th>X17</th>\n",
              "      <th>X18</th>\n",
              "      <th>X19</th>\n",
              "      <th>X20</th>\n",
              "      <th>X21</th>\n",
              "      <th>X22</th>\n",
              "      <th>X23</th>\n",
              "      <th>Y</th>\n",
              "    </tr>\n",
              "  </thead>\n",
              "  <tbody>\n",
              "    <tr>\n",
              "      <th>0</th>\n",
              "      <td>ID</td>\n",
              "      <td>LIMIT_BAL</td>\n",
              "      <td>SEX</td>\n",
              "      <td>EDUCATION</td>\n",
              "      <td>MARRIAGE</td>\n",
              "      <td>AGE</td>\n",
              "      <td>PAY_0</td>\n",
              "      <td>PAY_2</td>\n",
              "      <td>PAY_3</td>\n",
              "      <td>PAY_4</td>\n",
              "      <td>...</td>\n",
              "      <td>BILL_AMT4</td>\n",
              "      <td>BILL_AMT5</td>\n",
              "      <td>BILL_AMT6</td>\n",
              "      <td>PAY_AMT1</td>\n",
              "      <td>PAY_AMT2</td>\n",
              "      <td>PAY_AMT3</td>\n",
              "      <td>PAY_AMT4</td>\n",
              "      <td>PAY_AMT5</td>\n",
              "      <td>PAY_AMT6</td>\n",
              "      <td>default payment next month</td>\n",
              "    </tr>\n",
              "    <tr>\n",
              "      <th>1</th>\n",
              "      <td>1</td>\n",
              "      <td>20000</td>\n",
              "      <td>2</td>\n",
              "      <td>2</td>\n",
              "      <td>1</td>\n",
              "      <td>24</td>\n",
              "      <td>2</td>\n",
              "      <td>2</td>\n",
              "      <td>-1</td>\n",
              "      <td>-1</td>\n",
              "      <td>...</td>\n",
              "      <td>0</td>\n",
              "      <td>0</td>\n",
              "      <td>0</td>\n",
              "      <td>0</td>\n",
              "      <td>689</td>\n",
              "      <td>0</td>\n",
              "      <td>0</td>\n",
              "      <td>0</td>\n",
              "      <td>0</td>\n",
              "      <td>1</td>\n",
              "    </tr>\n",
              "    <tr>\n",
              "      <th>2</th>\n",
              "      <td>2</td>\n",
              "      <td>120000</td>\n",
              "      <td>2</td>\n",
              "      <td>2</td>\n",
              "      <td>2</td>\n",
              "      <td>26</td>\n",
              "      <td>-1</td>\n",
              "      <td>2</td>\n",
              "      <td>0</td>\n",
              "      <td>0</td>\n",
              "      <td>...</td>\n",
              "      <td>3272</td>\n",
              "      <td>3455</td>\n",
              "      <td>3261</td>\n",
              "      <td>0</td>\n",
              "      <td>1000</td>\n",
              "      <td>1000</td>\n",
              "      <td>1000</td>\n",
              "      <td>0</td>\n",
              "      <td>2000</td>\n",
              "      <td>1</td>\n",
              "    </tr>\n",
              "    <tr>\n",
              "      <th>3</th>\n",
              "      <td>3</td>\n",
              "      <td>90000</td>\n",
              "      <td>2</td>\n",
              "      <td>2</td>\n",
              "      <td>2</td>\n",
              "      <td>34</td>\n",
              "      <td>0</td>\n",
              "      <td>0</td>\n",
              "      <td>0</td>\n",
              "      <td>0</td>\n",
              "      <td>...</td>\n",
              "      <td>14331</td>\n",
              "      <td>14948</td>\n",
              "      <td>15549</td>\n",
              "      <td>1518</td>\n",
              "      <td>1500</td>\n",
              "      <td>1000</td>\n",
              "      <td>1000</td>\n",
              "      <td>1000</td>\n",
              "      <td>5000</td>\n",
              "      <td>0</td>\n",
              "    </tr>\n",
              "    <tr>\n",
              "      <th>4</th>\n",
              "      <td>4</td>\n",
              "      <td>50000</td>\n",
              "      <td>2</td>\n",
              "      <td>2</td>\n",
              "      <td>1</td>\n",
              "      <td>37</td>\n",
              "      <td>0</td>\n",
              "      <td>0</td>\n",
              "      <td>0</td>\n",
              "      <td>0</td>\n",
              "      <td>...</td>\n",
              "      <td>28314</td>\n",
              "      <td>28959</td>\n",
              "      <td>29547</td>\n",
              "      <td>2000</td>\n",
              "      <td>2019</td>\n",
              "      <td>1200</td>\n",
              "      <td>1100</td>\n",
              "      <td>1069</td>\n",
              "      <td>1000</td>\n",
              "      <td>0</td>\n",
              "    </tr>\n",
              "  </tbody>\n",
              "</table>\n",
              "<p>5 rows × 25 columns</p>\n",
              "</div>\n",
              "    <div class=\"colab-df-buttons\">\n",
              "\n",
              "  <div class=\"colab-df-container\">\n",
              "    <button class=\"colab-df-convert\" onclick=\"convertToInteractive('df-0461394e-96fb-480c-97ec-c4fac9091bf3')\"\n",
              "            title=\"Convert this dataframe to an interactive table.\"\n",
              "            style=\"display:none;\">\n",
              "\n",
              "  <svg xmlns=\"http://www.w3.org/2000/svg\" height=\"24px\" viewBox=\"0 -960 960 960\">\n",
              "    <path d=\"M120-120v-720h720v720H120Zm60-500h600v-160H180v160Zm220 220h160v-160H400v160Zm0 220h160v-160H400v160ZM180-400h160v-160H180v160Zm440 0h160v-160H620v160ZM180-180h160v-160H180v160Zm440 0h160v-160H620v160Z\"/>\n",
              "  </svg>\n",
              "    </button>\n",
              "\n",
              "  <style>\n",
              "    .colab-df-container {\n",
              "      display:flex;\n",
              "      gap: 12px;\n",
              "    }\n",
              "\n",
              "    .colab-df-convert {\n",
              "      background-color: #E8F0FE;\n",
              "      border: none;\n",
              "      border-radius: 50%;\n",
              "      cursor: pointer;\n",
              "      display: none;\n",
              "      fill: #1967D2;\n",
              "      height: 32px;\n",
              "      padding: 0 0 0 0;\n",
              "      width: 32px;\n",
              "    }\n",
              "\n",
              "    .colab-df-convert:hover {\n",
              "      background-color: #E2EBFA;\n",
              "      box-shadow: 0px 1px 2px rgba(60, 64, 67, 0.3), 0px 1px 3px 1px rgba(60, 64, 67, 0.15);\n",
              "      fill: #174EA6;\n",
              "    }\n",
              "\n",
              "    .colab-df-buttons div {\n",
              "      margin-bottom: 4px;\n",
              "    }\n",
              "\n",
              "    [theme=dark] .colab-df-convert {\n",
              "      background-color: #3B4455;\n",
              "      fill: #D2E3FC;\n",
              "    }\n",
              "\n",
              "    [theme=dark] .colab-df-convert:hover {\n",
              "      background-color: #434B5C;\n",
              "      box-shadow: 0px 1px 3px 1px rgba(0, 0, 0, 0.15);\n",
              "      filter: drop-shadow(0px 1px 2px rgba(0, 0, 0, 0.3));\n",
              "      fill: #FFFFFF;\n",
              "    }\n",
              "  </style>\n",
              "\n",
              "    <script>\n",
              "      const buttonEl =\n",
              "        document.querySelector('#df-0461394e-96fb-480c-97ec-c4fac9091bf3 button.colab-df-convert');\n",
              "      buttonEl.style.display =\n",
              "        google.colab.kernel.accessAllowed ? 'block' : 'none';\n",
              "\n",
              "      async function convertToInteractive(key) {\n",
              "        const element = document.querySelector('#df-0461394e-96fb-480c-97ec-c4fac9091bf3');\n",
              "        const dataTable =\n",
              "          await google.colab.kernel.invokeFunction('convertToInteractive',\n",
              "                                                    [key], {});\n",
              "        if (!dataTable) return;\n",
              "\n",
              "        const docLinkHtml = 'Like what you see? Visit the ' +\n",
              "          '<a target=\"_blank\" href=https://colab.research.google.com/notebooks/data_table.ipynb>data table notebook</a>'\n",
              "          + ' to learn more about interactive tables.';\n",
              "        element.innerHTML = '';\n",
              "        dataTable['output_type'] = 'display_data';\n",
              "        await google.colab.output.renderOutput(dataTable, element);\n",
              "        const docLink = document.createElement('div');\n",
              "        docLink.innerHTML = docLinkHtml;\n",
              "        element.appendChild(docLink);\n",
              "      }\n",
              "    </script>\n",
              "  </div>\n",
              "\n",
              "\n",
              "<div id=\"df-6331350c-e45a-4bd0-9d0a-01a074ef7e6d\">\n",
              "  <button class=\"colab-df-quickchart\" onclick=\"quickchart('df-6331350c-e45a-4bd0-9d0a-01a074ef7e6d')\"\n",
              "            title=\"Suggest charts\"\n",
              "            style=\"display:none;\">\n",
              "\n",
              "<svg xmlns=\"http://www.w3.org/2000/svg\" height=\"24px\"viewBox=\"0 0 24 24\"\n",
              "     width=\"24px\">\n",
              "    <g>\n",
              "        <path d=\"M19 3H5c-1.1 0-2 .9-2 2v14c0 1.1.9 2 2 2h14c1.1 0 2-.9 2-2V5c0-1.1-.9-2-2-2zM9 17H7v-7h2v7zm4 0h-2V7h2v10zm4 0h-2v-4h2v4z\"/>\n",
              "    </g>\n",
              "</svg>\n",
              "  </button>\n",
              "\n",
              "<style>\n",
              "  .colab-df-quickchart {\n",
              "      --bg-color: #E8F0FE;\n",
              "      --fill-color: #1967D2;\n",
              "      --hover-bg-color: #E2EBFA;\n",
              "      --hover-fill-color: #174EA6;\n",
              "      --disabled-fill-color: #AAA;\n",
              "      --disabled-bg-color: #DDD;\n",
              "  }\n",
              "\n",
              "  [theme=dark] .colab-df-quickchart {\n",
              "      --bg-color: #3B4455;\n",
              "      --fill-color: #D2E3FC;\n",
              "      --hover-bg-color: #434B5C;\n",
              "      --hover-fill-color: #FFFFFF;\n",
              "      --disabled-bg-color: #3B4455;\n",
              "      --disabled-fill-color: #666;\n",
              "  }\n",
              "\n",
              "  .colab-df-quickchart {\n",
              "    background-color: var(--bg-color);\n",
              "    border: none;\n",
              "    border-radius: 50%;\n",
              "    cursor: pointer;\n",
              "    display: none;\n",
              "    fill: var(--fill-color);\n",
              "    height: 32px;\n",
              "    padding: 0;\n",
              "    width: 32px;\n",
              "  }\n",
              "\n",
              "  .colab-df-quickchart:hover {\n",
              "    background-color: var(--hover-bg-color);\n",
              "    box-shadow: 0 1px 2px rgba(60, 64, 67, 0.3), 0 1px 3px 1px rgba(60, 64, 67, 0.15);\n",
              "    fill: var(--button-hover-fill-color);\n",
              "  }\n",
              "\n",
              "  .colab-df-quickchart-complete:disabled,\n",
              "  .colab-df-quickchart-complete:disabled:hover {\n",
              "    background-color: var(--disabled-bg-color);\n",
              "    fill: var(--disabled-fill-color);\n",
              "    box-shadow: none;\n",
              "  }\n",
              "\n",
              "  .colab-df-spinner {\n",
              "    border: 2px solid var(--fill-color);\n",
              "    border-color: transparent;\n",
              "    border-bottom-color: var(--fill-color);\n",
              "    animation:\n",
              "      spin 1s steps(1) infinite;\n",
              "  }\n",
              "\n",
              "  @keyframes spin {\n",
              "    0% {\n",
              "      border-color: transparent;\n",
              "      border-bottom-color: var(--fill-color);\n",
              "      border-left-color: var(--fill-color);\n",
              "    }\n",
              "    20% {\n",
              "      border-color: transparent;\n",
              "      border-left-color: var(--fill-color);\n",
              "      border-top-color: var(--fill-color);\n",
              "    }\n",
              "    30% {\n",
              "      border-color: transparent;\n",
              "      border-left-color: var(--fill-color);\n",
              "      border-top-color: var(--fill-color);\n",
              "      border-right-color: var(--fill-color);\n",
              "    }\n",
              "    40% {\n",
              "      border-color: transparent;\n",
              "      border-right-color: var(--fill-color);\n",
              "      border-top-color: var(--fill-color);\n",
              "    }\n",
              "    60% {\n",
              "      border-color: transparent;\n",
              "      border-right-color: var(--fill-color);\n",
              "    }\n",
              "    80% {\n",
              "      border-color: transparent;\n",
              "      border-right-color: var(--fill-color);\n",
              "      border-bottom-color: var(--fill-color);\n",
              "    }\n",
              "    90% {\n",
              "      border-color: transparent;\n",
              "      border-bottom-color: var(--fill-color);\n",
              "    }\n",
              "  }\n",
              "</style>\n",
              "\n",
              "  <script>\n",
              "    async function quickchart(key) {\n",
              "      const quickchartButtonEl =\n",
              "        document.querySelector('#' + key + ' button');\n",
              "      quickchartButtonEl.disabled = true;  // To prevent multiple clicks.\n",
              "      quickchartButtonEl.classList.add('colab-df-spinner');\n",
              "      try {\n",
              "        const charts = await google.colab.kernel.invokeFunction(\n",
              "            'suggestCharts', [key], {});\n",
              "      } catch (error) {\n",
              "        console.error('Error during call to suggestCharts:', error);\n",
              "      }\n",
              "      quickchartButtonEl.classList.remove('colab-df-spinner');\n",
              "      quickchartButtonEl.classList.add('colab-df-quickchart-complete');\n",
              "    }\n",
              "    (() => {\n",
              "      let quickchartButtonEl =\n",
              "        document.querySelector('#df-6331350c-e45a-4bd0-9d0a-01a074ef7e6d button');\n",
              "      quickchartButtonEl.style.display =\n",
              "        google.colab.kernel.accessAllowed ? 'block' : 'none';\n",
              "    })();\n",
              "  </script>\n",
              "</div>\n",
              "\n",
              "    </div>\n",
              "  </div>\n"
            ]
          },
          "metadata": {},
          "execution_count": 9
        }
      ]
    },
    {
      "cell_type": "code",
      "source": [
        "df = df.drop(0)"
      ],
      "metadata": {
        "id": "tWLUa7mB7Hhm"
      },
      "execution_count": null,
      "outputs": []
    },
    {
      "cell_type": "code",
      "source": [
        "df.isnull().sum()"
      ],
      "metadata": {
        "colab": {
          "base_uri": "https://localhost:8080/"
        },
        "id": "2MSGhcEYUFr3",
        "outputId": "be9415ab-fa1d-4cf1-af25-502ca20b537b"
      },
      "execution_count": null,
      "outputs": [
        {
          "output_type": "execute_result",
          "data": {
            "text/plain": [
              "Unnamed: 0    0\n",
              "X1            0\n",
              "X2            0\n",
              "X3            0\n",
              "X4            0\n",
              "X5            0\n",
              "X6            0\n",
              "X7            0\n",
              "X8            0\n",
              "X9            0\n",
              "X10           0\n",
              "X11           0\n",
              "X12           0\n",
              "X13           0\n",
              "X14           0\n",
              "X15           0\n",
              "X16           0\n",
              "X17           0\n",
              "X18           0\n",
              "X19           0\n",
              "X20           0\n",
              "X21           0\n",
              "X22           0\n",
              "X23           0\n",
              "Y             0\n",
              "dtype: int64"
            ]
          },
          "metadata": {},
          "execution_count": 11
        }
      ]
    },
    {
      "cell_type": "code",
      "source": [
        "df = df.astype(int)"
      ],
      "metadata": {
        "id": "uzMdEesT7e0x"
      },
      "execution_count": null,
      "outputs": []
    },
    {
      "cell_type": "code",
      "source": [
        "df.info()"
      ],
      "metadata": {
        "colab": {
          "base_uri": "https://localhost:8080/"
        },
        "id": "cxQ68lon7hlW",
        "outputId": "08508e34-e9d1-43c5-9d26-16fa834bf671"
      },
      "execution_count": null,
      "outputs": [
        {
          "output_type": "stream",
          "name": "stdout",
          "text": [
            "<class 'pandas.core.frame.DataFrame'>\n",
            "RangeIndex: 30000 entries, 1 to 30000\n",
            "Data columns (total 25 columns):\n",
            " #   Column      Non-Null Count  Dtype\n",
            "---  ------      --------------  -----\n",
            " 0   Unnamed: 0  30000 non-null  int64\n",
            " 1   X1          30000 non-null  int64\n",
            " 2   X2          30000 non-null  int64\n",
            " 3   X3          30000 non-null  int64\n",
            " 4   X4          30000 non-null  int64\n",
            " 5   X5          30000 non-null  int64\n",
            " 6   X6          30000 non-null  int64\n",
            " 7   X7          30000 non-null  int64\n",
            " 8   X8          30000 non-null  int64\n",
            " 9   X9          30000 non-null  int64\n",
            " 10  X10         30000 non-null  int64\n",
            " 11  X11         30000 non-null  int64\n",
            " 12  X12         30000 non-null  int64\n",
            " 13  X13         30000 non-null  int64\n",
            " 14  X14         30000 non-null  int64\n",
            " 15  X15         30000 non-null  int64\n",
            " 16  X16         30000 non-null  int64\n",
            " 17  X17         30000 non-null  int64\n",
            " 18  X18         30000 non-null  int64\n",
            " 19  X19         30000 non-null  int64\n",
            " 20  X20         30000 non-null  int64\n",
            " 21  X21         30000 non-null  int64\n",
            " 22  X22         30000 non-null  int64\n",
            " 23  X23         30000 non-null  int64\n",
            " 24  Y           30000 non-null  int64\n",
            "dtypes: int64(25)\n",
            "memory usage: 5.7 MB\n"
          ]
        }
      ]
    },
    {
      "cell_type": "code",
      "source": [
        "X = df.iloc[:, 1:24]"
      ],
      "metadata": {
        "id": "vUQadeAR41rf"
      },
      "execution_count": null,
      "outputs": []
    },
    {
      "cell_type": "code",
      "source": [
        "X"
      ],
      "metadata": {
        "colab": {
          "base_uri": "https://localhost:8080/",
          "height": 423
        },
        "id": "u7jWRDKA43t-",
        "outputId": "6bddb6bc-43e6-4a34-9eb9-dae424d03720"
      },
      "execution_count": null,
      "outputs": [
        {
          "output_type": "execute_result",
          "data": {
            "text/plain": [
              "           X1  X2  X3  X4  X5  X6  X7  X8  X9  X10  ...     X14    X15    X16  \\\n",
              "1       20000   2   2   1  24   2   2  -1  -1   -2  ...     689      0      0   \n",
              "2      120000   2   2   2  26  -1   2   0   0    0  ...    2682   3272   3455   \n",
              "3       90000   2   2   2  34   0   0   0   0    0  ...   13559  14331  14948   \n",
              "4       50000   2   2   1  37   0   0   0   0    0  ...   49291  28314  28959   \n",
              "5       50000   1   2   1  57  -1   0  -1   0    0  ...   35835  20940  19146   \n",
              "...       ...  ..  ..  ..  ..  ..  ..  ..  ..  ...  ...     ...    ...    ...   \n",
              "29996  220000   1   3   1  39   0   0   0   0    0  ...  208365  88004  31237   \n",
              "29997  150000   1   3   2  43  -1  -1  -1  -1    0  ...    3502   8979   5190   \n",
              "29998   30000   1   2   2  37   4   3   2  -1    0  ...    2758  20878  20582   \n",
              "29999   80000   1   3   1  41   1  -1   0   0    0  ...   76304  52774  11855   \n",
              "30000   50000   1   2   1  46   0   0   0   0    0  ...   49764  36535  32428   \n",
              "\n",
              "         X17    X18    X19    X20   X21    X22   X23  \n",
              "1          0      0    689      0     0      0     0  \n",
              "2       3261      0   1000   1000  1000      0  2000  \n",
              "3      15549   1518   1500   1000  1000   1000  5000  \n",
              "4      29547   2000   2019   1200  1100   1069  1000  \n",
              "5      19131   2000  36681  10000  9000    689   679  \n",
              "...      ...    ...    ...    ...   ...    ...   ...  \n",
              "29996  15980   8500  20000   5003  3047   5000  1000  \n",
              "29997      0   1837   3526   8998   129      0     0  \n",
              "29998  19357      0      0  22000  4200   2000  3100  \n",
              "29999  48944  85900   3409   1178  1926  52964  1804  \n",
              "30000  15313   2078   1800   1430  1000   1000  1000  \n",
              "\n",
              "[30000 rows x 23 columns]"
            ],
            "text/html": [
              "\n",
              "  <div id=\"df-df6e24d9-efba-4109-8879-bf4104dcc2b5\" class=\"colab-df-container\">\n",
              "    <div>\n",
              "<style scoped>\n",
              "    .dataframe tbody tr th:only-of-type {\n",
              "        vertical-align: middle;\n",
              "    }\n",
              "\n",
              "    .dataframe tbody tr th {\n",
              "        vertical-align: top;\n",
              "    }\n",
              "\n",
              "    .dataframe thead th {\n",
              "        text-align: right;\n",
              "    }\n",
              "</style>\n",
              "<table border=\"1\" class=\"dataframe\">\n",
              "  <thead>\n",
              "    <tr style=\"text-align: right;\">\n",
              "      <th></th>\n",
              "      <th>X1</th>\n",
              "      <th>X2</th>\n",
              "      <th>X3</th>\n",
              "      <th>X4</th>\n",
              "      <th>X5</th>\n",
              "      <th>X6</th>\n",
              "      <th>X7</th>\n",
              "      <th>X8</th>\n",
              "      <th>X9</th>\n",
              "      <th>X10</th>\n",
              "      <th>...</th>\n",
              "      <th>X14</th>\n",
              "      <th>X15</th>\n",
              "      <th>X16</th>\n",
              "      <th>X17</th>\n",
              "      <th>X18</th>\n",
              "      <th>X19</th>\n",
              "      <th>X20</th>\n",
              "      <th>X21</th>\n",
              "      <th>X22</th>\n",
              "      <th>X23</th>\n",
              "    </tr>\n",
              "  </thead>\n",
              "  <tbody>\n",
              "    <tr>\n",
              "      <th>1</th>\n",
              "      <td>20000</td>\n",
              "      <td>2</td>\n",
              "      <td>2</td>\n",
              "      <td>1</td>\n",
              "      <td>24</td>\n",
              "      <td>2</td>\n",
              "      <td>2</td>\n",
              "      <td>-1</td>\n",
              "      <td>-1</td>\n",
              "      <td>-2</td>\n",
              "      <td>...</td>\n",
              "      <td>689</td>\n",
              "      <td>0</td>\n",
              "      <td>0</td>\n",
              "      <td>0</td>\n",
              "      <td>0</td>\n",
              "      <td>689</td>\n",
              "      <td>0</td>\n",
              "      <td>0</td>\n",
              "      <td>0</td>\n",
              "      <td>0</td>\n",
              "    </tr>\n",
              "    <tr>\n",
              "      <th>2</th>\n",
              "      <td>120000</td>\n",
              "      <td>2</td>\n",
              "      <td>2</td>\n",
              "      <td>2</td>\n",
              "      <td>26</td>\n",
              "      <td>-1</td>\n",
              "      <td>2</td>\n",
              "      <td>0</td>\n",
              "      <td>0</td>\n",
              "      <td>0</td>\n",
              "      <td>...</td>\n",
              "      <td>2682</td>\n",
              "      <td>3272</td>\n",
              "      <td>3455</td>\n",
              "      <td>3261</td>\n",
              "      <td>0</td>\n",
              "      <td>1000</td>\n",
              "      <td>1000</td>\n",
              "      <td>1000</td>\n",
              "      <td>0</td>\n",
              "      <td>2000</td>\n",
              "    </tr>\n",
              "    <tr>\n",
              "      <th>3</th>\n",
              "      <td>90000</td>\n",
              "      <td>2</td>\n",
              "      <td>2</td>\n",
              "      <td>2</td>\n",
              "      <td>34</td>\n",
              "      <td>0</td>\n",
              "      <td>0</td>\n",
              "      <td>0</td>\n",
              "      <td>0</td>\n",
              "      <td>0</td>\n",
              "      <td>...</td>\n",
              "      <td>13559</td>\n",
              "      <td>14331</td>\n",
              "      <td>14948</td>\n",
              "      <td>15549</td>\n",
              "      <td>1518</td>\n",
              "      <td>1500</td>\n",
              "      <td>1000</td>\n",
              "      <td>1000</td>\n",
              "      <td>1000</td>\n",
              "      <td>5000</td>\n",
              "    </tr>\n",
              "    <tr>\n",
              "      <th>4</th>\n",
              "      <td>50000</td>\n",
              "      <td>2</td>\n",
              "      <td>2</td>\n",
              "      <td>1</td>\n",
              "      <td>37</td>\n",
              "      <td>0</td>\n",
              "      <td>0</td>\n",
              "      <td>0</td>\n",
              "      <td>0</td>\n",
              "      <td>0</td>\n",
              "      <td>...</td>\n",
              "      <td>49291</td>\n",
              "      <td>28314</td>\n",
              "      <td>28959</td>\n",
              "      <td>29547</td>\n",
              "      <td>2000</td>\n",
              "      <td>2019</td>\n",
              "      <td>1200</td>\n",
              "      <td>1100</td>\n",
              "      <td>1069</td>\n",
              "      <td>1000</td>\n",
              "    </tr>\n",
              "    <tr>\n",
              "      <th>5</th>\n",
              "      <td>50000</td>\n",
              "      <td>1</td>\n",
              "      <td>2</td>\n",
              "      <td>1</td>\n",
              "      <td>57</td>\n",
              "      <td>-1</td>\n",
              "      <td>0</td>\n",
              "      <td>-1</td>\n",
              "      <td>0</td>\n",
              "      <td>0</td>\n",
              "      <td>...</td>\n",
              "      <td>35835</td>\n",
              "      <td>20940</td>\n",
              "      <td>19146</td>\n",
              "      <td>19131</td>\n",
              "      <td>2000</td>\n",
              "      <td>36681</td>\n",
              "      <td>10000</td>\n",
              "      <td>9000</td>\n",
              "      <td>689</td>\n",
              "      <td>679</td>\n",
              "    </tr>\n",
              "    <tr>\n",
              "      <th>...</th>\n",
              "      <td>...</td>\n",
              "      <td>...</td>\n",
              "      <td>...</td>\n",
              "      <td>...</td>\n",
              "      <td>...</td>\n",
              "      <td>...</td>\n",
              "      <td>...</td>\n",
              "      <td>...</td>\n",
              "      <td>...</td>\n",
              "      <td>...</td>\n",
              "      <td>...</td>\n",
              "      <td>...</td>\n",
              "      <td>...</td>\n",
              "      <td>...</td>\n",
              "      <td>...</td>\n",
              "      <td>...</td>\n",
              "      <td>...</td>\n",
              "      <td>...</td>\n",
              "      <td>...</td>\n",
              "      <td>...</td>\n",
              "      <td>...</td>\n",
              "    </tr>\n",
              "    <tr>\n",
              "      <th>29996</th>\n",
              "      <td>220000</td>\n",
              "      <td>1</td>\n",
              "      <td>3</td>\n",
              "      <td>1</td>\n",
              "      <td>39</td>\n",
              "      <td>0</td>\n",
              "      <td>0</td>\n",
              "      <td>0</td>\n",
              "      <td>0</td>\n",
              "      <td>0</td>\n",
              "      <td>...</td>\n",
              "      <td>208365</td>\n",
              "      <td>88004</td>\n",
              "      <td>31237</td>\n",
              "      <td>15980</td>\n",
              "      <td>8500</td>\n",
              "      <td>20000</td>\n",
              "      <td>5003</td>\n",
              "      <td>3047</td>\n",
              "      <td>5000</td>\n",
              "      <td>1000</td>\n",
              "    </tr>\n",
              "    <tr>\n",
              "      <th>29997</th>\n",
              "      <td>150000</td>\n",
              "      <td>1</td>\n",
              "      <td>3</td>\n",
              "      <td>2</td>\n",
              "      <td>43</td>\n",
              "      <td>-1</td>\n",
              "      <td>-1</td>\n",
              "      <td>-1</td>\n",
              "      <td>-1</td>\n",
              "      <td>0</td>\n",
              "      <td>...</td>\n",
              "      <td>3502</td>\n",
              "      <td>8979</td>\n",
              "      <td>5190</td>\n",
              "      <td>0</td>\n",
              "      <td>1837</td>\n",
              "      <td>3526</td>\n",
              "      <td>8998</td>\n",
              "      <td>129</td>\n",
              "      <td>0</td>\n",
              "      <td>0</td>\n",
              "    </tr>\n",
              "    <tr>\n",
              "      <th>29998</th>\n",
              "      <td>30000</td>\n",
              "      <td>1</td>\n",
              "      <td>2</td>\n",
              "      <td>2</td>\n",
              "      <td>37</td>\n",
              "      <td>4</td>\n",
              "      <td>3</td>\n",
              "      <td>2</td>\n",
              "      <td>-1</td>\n",
              "      <td>0</td>\n",
              "      <td>...</td>\n",
              "      <td>2758</td>\n",
              "      <td>20878</td>\n",
              "      <td>20582</td>\n",
              "      <td>19357</td>\n",
              "      <td>0</td>\n",
              "      <td>0</td>\n",
              "      <td>22000</td>\n",
              "      <td>4200</td>\n",
              "      <td>2000</td>\n",
              "      <td>3100</td>\n",
              "    </tr>\n",
              "    <tr>\n",
              "      <th>29999</th>\n",
              "      <td>80000</td>\n",
              "      <td>1</td>\n",
              "      <td>3</td>\n",
              "      <td>1</td>\n",
              "      <td>41</td>\n",
              "      <td>1</td>\n",
              "      <td>-1</td>\n",
              "      <td>0</td>\n",
              "      <td>0</td>\n",
              "      <td>0</td>\n",
              "      <td>...</td>\n",
              "      <td>76304</td>\n",
              "      <td>52774</td>\n",
              "      <td>11855</td>\n",
              "      <td>48944</td>\n",
              "      <td>85900</td>\n",
              "      <td>3409</td>\n",
              "      <td>1178</td>\n",
              "      <td>1926</td>\n",
              "      <td>52964</td>\n",
              "      <td>1804</td>\n",
              "    </tr>\n",
              "    <tr>\n",
              "      <th>30000</th>\n",
              "      <td>50000</td>\n",
              "      <td>1</td>\n",
              "      <td>2</td>\n",
              "      <td>1</td>\n",
              "      <td>46</td>\n",
              "      <td>0</td>\n",
              "      <td>0</td>\n",
              "      <td>0</td>\n",
              "      <td>0</td>\n",
              "      <td>0</td>\n",
              "      <td>...</td>\n",
              "      <td>49764</td>\n",
              "      <td>36535</td>\n",
              "      <td>32428</td>\n",
              "      <td>15313</td>\n",
              "      <td>2078</td>\n",
              "      <td>1800</td>\n",
              "      <td>1430</td>\n",
              "      <td>1000</td>\n",
              "      <td>1000</td>\n",
              "      <td>1000</td>\n",
              "    </tr>\n",
              "  </tbody>\n",
              "</table>\n",
              "<p>30000 rows × 23 columns</p>\n",
              "</div>\n",
              "    <div class=\"colab-df-buttons\">\n",
              "\n",
              "  <div class=\"colab-df-container\">\n",
              "    <button class=\"colab-df-convert\" onclick=\"convertToInteractive('df-df6e24d9-efba-4109-8879-bf4104dcc2b5')\"\n",
              "            title=\"Convert this dataframe to an interactive table.\"\n",
              "            style=\"display:none;\">\n",
              "\n",
              "  <svg xmlns=\"http://www.w3.org/2000/svg\" height=\"24px\" viewBox=\"0 -960 960 960\">\n",
              "    <path d=\"M120-120v-720h720v720H120Zm60-500h600v-160H180v160Zm220 220h160v-160H400v160Zm0 220h160v-160H400v160ZM180-400h160v-160H180v160Zm440 0h160v-160H620v160ZM180-180h160v-160H180v160Zm440 0h160v-160H620v160Z\"/>\n",
              "  </svg>\n",
              "    </button>\n",
              "\n",
              "  <style>\n",
              "    .colab-df-container {\n",
              "      display:flex;\n",
              "      gap: 12px;\n",
              "    }\n",
              "\n",
              "    .colab-df-convert {\n",
              "      background-color: #E8F0FE;\n",
              "      border: none;\n",
              "      border-radius: 50%;\n",
              "      cursor: pointer;\n",
              "      display: none;\n",
              "      fill: #1967D2;\n",
              "      height: 32px;\n",
              "      padding: 0 0 0 0;\n",
              "      width: 32px;\n",
              "    }\n",
              "\n",
              "    .colab-df-convert:hover {\n",
              "      background-color: #E2EBFA;\n",
              "      box-shadow: 0px 1px 2px rgba(60, 64, 67, 0.3), 0px 1px 3px 1px rgba(60, 64, 67, 0.15);\n",
              "      fill: #174EA6;\n",
              "    }\n",
              "\n",
              "    .colab-df-buttons div {\n",
              "      margin-bottom: 4px;\n",
              "    }\n",
              "\n",
              "    [theme=dark] .colab-df-convert {\n",
              "      background-color: #3B4455;\n",
              "      fill: #D2E3FC;\n",
              "    }\n",
              "\n",
              "    [theme=dark] .colab-df-convert:hover {\n",
              "      background-color: #434B5C;\n",
              "      box-shadow: 0px 1px 3px 1px rgba(0, 0, 0, 0.15);\n",
              "      filter: drop-shadow(0px 1px 2px rgba(0, 0, 0, 0.3));\n",
              "      fill: #FFFFFF;\n",
              "    }\n",
              "  </style>\n",
              "\n",
              "    <script>\n",
              "      const buttonEl =\n",
              "        document.querySelector('#df-df6e24d9-efba-4109-8879-bf4104dcc2b5 button.colab-df-convert');\n",
              "      buttonEl.style.display =\n",
              "        google.colab.kernel.accessAllowed ? 'block' : 'none';\n",
              "\n",
              "      async function convertToInteractive(key) {\n",
              "        const element = document.querySelector('#df-df6e24d9-efba-4109-8879-bf4104dcc2b5');\n",
              "        const dataTable =\n",
              "          await google.colab.kernel.invokeFunction('convertToInteractive',\n",
              "                                                    [key], {});\n",
              "        if (!dataTable) return;\n",
              "\n",
              "        const docLinkHtml = 'Like what you see? Visit the ' +\n",
              "          '<a target=\"_blank\" href=https://colab.research.google.com/notebooks/data_table.ipynb>data table notebook</a>'\n",
              "          + ' to learn more about interactive tables.';\n",
              "        element.innerHTML = '';\n",
              "        dataTable['output_type'] = 'display_data';\n",
              "        await google.colab.output.renderOutput(dataTable, element);\n",
              "        const docLink = document.createElement('div');\n",
              "        docLink.innerHTML = docLinkHtml;\n",
              "        element.appendChild(docLink);\n",
              "      }\n",
              "    </script>\n",
              "  </div>\n",
              "\n",
              "\n",
              "<div id=\"df-01952a16-8dee-438a-8545-e99eae8688df\">\n",
              "  <button class=\"colab-df-quickchart\" onclick=\"quickchart('df-01952a16-8dee-438a-8545-e99eae8688df')\"\n",
              "            title=\"Suggest charts\"\n",
              "            style=\"display:none;\">\n",
              "\n",
              "<svg xmlns=\"http://www.w3.org/2000/svg\" height=\"24px\"viewBox=\"0 0 24 24\"\n",
              "     width=\"24px\">\n",
              "    <g>\n",
              "        <path d=\"M19 3H5c-1.1 0-2 .9-2 2v14c0 1.1.9 2 2 2h14c1.1 0 2-.9 2-2V5c0-1.1-.9-2-2-2zM9 17H7v-7h2v7zm4 0h-2V7h2v10zm4 0h-2v-4h2v4z\"/>\n",
              "    </g>\n",
              "</svg>\n",
              "  </button>\n",
              "\n",
              "<style>\n",
              "  .colab-df-quickchart {\n",
              "      --bg-color: #E8F0FE;\n",
              "      --fill-color: #1967D2;\n",
              "      --hover-bg-color: #E2EBFA;\n",
              "      --hover-fill-color: #174EA6;\n",
              "      --disabled-fill-color: #AAA;\n",
              "      --disabled-bg-color: #DDD;\n",
              "  }\n",
              "\n",
              "  [theme=dark] .colab-df-quickchart {\n",
              "      --bg-color: #3B4455;\n",
              "      --fill-color: #D2E3FC;\n",
              "      --hover-bg-color: #434B5C;\n",
              "      --hover-fill-color: #FFFFFF;\n",
              "      --disabled-bg-color: #3B4455;\n",
              "      --disabled-fill-color: #666;\n",
              "  }\n",
              "\n",
              "  .colab-df-quickchart {\n",
              "    background-color: var(--bg-color);\n",
              "    border: none;\n",
              "    border-radius: 50%;\n",
              "    cursor: pointer;\n",
              "    display: none;\n",
              "    fill: var(--fill-color);\n",
              "    height: 32px;\n",
              "    padding: 0;\n",
              "    width: 32px;\n",
              "  }\n",
              "\n",
              "  .colab-df-quickchart:hover {\n",
              "    background-color: var(--hover-bg-color);\n",
              "    box-shadow: 0 1px 2px rgba(60, 64, 67, 0.3), 0 1px 3px 1px rgba(60, 64, 67, 0.15);\n",
              "    fill: var(--button-hover-fill-color);\n",
              "  }\n",
              "\n",
              "  .colab-df-quickchart-complete:disabled,\n",
              "  .colab-df-quickchart-complete:disabled:hover {\n",
              "    background-color: var(--disabled-bg-color);\n",
              "    fill: var(--disabled-fill-color);\n",
              "    box-shadow: none;\n",
              "  }\n",
              "\n",
              "  .colab-df-spinner {\n",
              "    border: 2px solid var(--fill-color);\n",
              "    border-color: transparent;\n",
              "    border-bottom-color: var(--fill-color);\n",
              "    animation:\n",
              "      spin 1s steps(1) infinite;\n",
              "  }\n",
              "\n",
              "  @keyframes spin {\n",
              "    0% {\n",
              "      border-color: transparent;\n",
              "      border-bottom-color: var(--fill-color);\n",
              "      border-left-color: var(--fill-color);\n",
              "    }\n",
              "    20% {\n",
              "      border-color: transparent;\n",
              "      border-left-color: var(--fill-color);\n",
              "      border-top-color: var(--fill-color);\n",
              "    }\n",
              "    30% {\n",
              "      border-color: transparent;\n",
              "      border-left-color: var(--fill-color);\n",
              "      border-top-color: var(--fill-color);\n",
              "      border-right-color: var(--fill-color);\n",
              "    }\n",
              "    40% {\n",
              "      border-color: transparent;\n",
              "      border-right-color: var(--fill-color);\n",
              "      border-top-color: var(--fill-color);\n",
              "    }\n",
              "    60% {\n",
              "      border-color: transparent;\n",
              "      border-right-color: var(--fill-color);\n",
              "    }\n",
              "    80% {\n",
              "      border-color: transparent;\n",
              "      border-right-color: var(--fill-color);\n",
              "      border-bottom-color: var(--fill-color);\n",
              "    }\n",
              "    90% {\n",
              "      border-color: transparent;\n",
              "      border-bottom-color: var(--fill-color);\n",
              "    }\n",
              "  }\n",
              "</style>\n",
              "\n",
              "  <script>\n",
              "    async function quickchart(key) {\n",
              "      const quickchartButtonEl =\n",
              "        document.querySelector('#' + key + ' button');\n",
              "      quickchartButtonEl.disabled = true;  // To prevent multiple clicks.\n",
              "      quickchartButtonEl.classList.add('colab-df-spinner');\n",
              "      try {\n",
              "        const charts = await google.colab.kernel.invokeFunction(\n",
              "            'suggestCharts', [key], {});\n",
              "      } catch (error) {\n",
              "        console.error('Error during call to suggestCharts:', error);\n",
              "      }\n",
              "      quickchartButtonEl.classList.remove('colab-df-spinner');\n",
              "      quickchartButtonEl.classList.add('colab-df-quickchart-complete');\n",
              "    }\n",
              "    (() => {\n",
              "      let quickchartButtonEl =\n",
              "        document.querySelector('#df-01952a16-8dee-438a-8545-e99eae8688df button');\n",
              "      quickchartButtonEl.style.display =\n",
              "        google.colab.kernel.accessAllowed ? 'block' : 'none';\n",
              "    })();\n",
              "  </script>\n",
              "</div>\n",
              "\n",
              "  <div id=\"id_19cd1b16-968d-44a2-9e55-eac393aa63fc\">\n",
              "    <style>\n",
              "      .colab-df-generate {\n",
              "        background-color: #E8F0FE;\n",
              "        border: none;\n",
              "        border-radius: 50%;\n",
              "        cursor: pointer;\n",
              "        display: none;\n",
              "        fill: #1967D2;\n",
              "        height: 32px;\n",
              "        padding: 0 0 0 0;\n",
              "        width: 32px;\n",
              "      }\n",
              "\n",
              "      .colab-df-generate:hover {\n",
              "        background-color: #E2EBFA;\n",
              "        box-shadow: 0px 1px 2px rgba(60, 64, 67, 0.3), 0px 1px 3px 1px rgba(60, 64, 67, 0.15);\n",
              "        fill: #174EA6;\n",
              "      }\n",
              "\n",
              "      [theme=dark] .colab-df-generate {\n",
              "        background-color: #3B4455;\n",
              "        fill: #D2E3FC;\n",
              "      }\n",
              "\n",
              "      [theme=dark] .colab-df-generate:hover {\n",
              "        background-color: #434B5C;\n",
              "        box-shadow: 0px 1px 3px 1px rgba(0, 0, 0, 0.15);\n",
              "        filter: drop-shadow(0px 1px 2px rgba(0, 0, 0, 0.3));\n",
              "        fill: #FFFFFF;\n",
              "      }\n",
              "    </style>\n",
              "    <button class=\"colab-df-generate\" onclick=\"generateWithVariable('X')\"\n",
              "            title=\"Generate code using this dataframe.\"\n",
              "            style=\"display:none;\">\n",
              "\n",
              "  <svg xmlns=\"http://www.w3.org/2000/svg\" height=\"24px\"viewBox=\"0 0 24 24\"\n",
              "       width=\"24px\">\n",
              "    <path d=\"M7,19H8.4L18.45,9,17,7.55,7,17.6ZM5,21V16.75L18.45,3.32a2,2,0,0,1,2.83,0l1.4,1.43a1.91,1.91,0,0,1,.58,1.4,1.91,1.91,0,0,1-.58,1.4L9.25,21ZM18.45,9,17,7.55Zm-12,3A5.31,5.31,0,0,0,4.9,8.1,5.31,5.31,0,0,0,1,6.5,5.31,5.31,0,0,0,4.9,4.9,5.31,5.31,0,0,0,6.5,1,5.31,5.31,0,0,0,8.1,4.9,5.31,5.31,0,0,0,12,6.5,5.46,5.46,0,0,0,6.5,12Z\"/>\n",
              "  </svg>\n",
              "    </button>\n",
              "    <script>\n",
              "      (() => {\n",
              "      const buttonEl =\n",
              "        document.querySelector('#id_19cd1b16-968d-44a2-9e55-eac393aa63fc button.colab-df-generate');\n",
              "      buttonEl.style.display =\n",
              "        google.colab.kernel.accessAllowed ? 'block' : 'none';\n",
              "\n",
              "      buttonEl.onclick = () => {\n",
              "        google.colab.notebook.generateWithVariable('X');\n",
              "      }\n",
              "      })();\n",
              "    </script>\n",
              "  </div>\n",
              "\n",
              "    </div>\n",
              "  </div>\n"
            ]
          },
          "metadata": {},
          "execution_count": 15
        }
      ]
    },
    {
      "cell_type": "code",
      "source": [
        "y = df['Y'].values.flatten()"
      ],
      "metadata": {
        "id": "mFbe0nWN97LU"
      },
      "execution_count": null,
      "outputs": []
    },
    {
      "cell_type": "code",
      "source": [
        "y"
      ],
      "metadata": {
        "colab": {
          "base_uri": "https://localhost:8080/"
        },
        "id": "G3s1XIKb9_Q_",
        "outputId": "07cf17c4-b156-497c-a0e3-a743a81797e0"
      },
      "execution_count": null,
      "outputs": [
        {
          "output_type": "execute_result",
          "data": {
            "text/plain": [
              "array([1, 1, 0, ..., 1, 1, 1])"
            ]
          },
          "metadata": {},
          "execution_count": 17
        }
      ]
    },
    {
      "cell_type": "code",
      "source": [
        "from sklearn.model_selection import train_test_split\n",
        "X_train, X_test, y_train, y_test = train_test_split(X, y, test_size = 0.2, random_state = 41)"
      ],
      "metadata": {
        "id": "jo3AgXcc6UgY"
      },
      "execution_count": null,
      "outputs": []
    },
    {
      "cell_type": "code",
      "source": [
        "from sklearn.ensemble import RandomForestClassifier\n",
        "import numpy as np"
      ],
      "metadata": {
        "id": "bLH1cu6Y6nPJ"
      },
      "execution_count": null,
      "outputs": []
    },
    {
      "cell_type": "code",
      "source": [
        "classifier = RandomForestClassifier()\n",
        "classifier.fit(X_train, y_train)"
      ],
      "metadata": {
        "colab": {
          "base_uri": "https://localhost:8080/",
          "height": 74
        },
        "id": "KqKkkepA6yMK",
        "outputId": "98420248-292e-4a2c-e934-3086d57dcb2d"
      },
      "execution_count": null,
      "outputs": [
        {
          "output_type": "execute_result",
          "data": {
            "text/plain": [
              "RandomForestClassifier()"
            ],
            "text/html": [
              "<style>#sk-container-id-1 {color: black;background-color: white;}#sk-container-id-1 pre{padding: 0;}#sk-container-id-1 div.sk-toggleable {background-color: white;}#sk-container-id-1 label.sk-toggleable__label {cursor: pointer;display: block;width: 100%;margin-bottom: 0;padding: 0.3em;box-sizing: border-box;text-align: center;}#sk-container-id-1 label.sk-toggleable__label-arrow:before {content: \"▸\";float: left;margin-right: 0.25em;color: #696969;}#sk-container-id-1 label.sk-toggleable__label-arrow:hover:before {color: black;}#sk-container-id-1 div.sk-estimator:hover label.sk-toggleable__label-arrow:before {color: black;}#sk-container-id-1 div.sk-toggleable__content {max-height: 0;max-width: 0;overflow: hidden;text-align: left;background-color: #f0f8ff;}#sk-container-id-1 div.sk-toggleable__content pre {margin: 0.2em;color: black;border-radius: 0.25em;background-color: #f0f8ff;}#sk-container-id-1 input.sk-toggleable__control:checked~div.sk-toggleable__content {max-height: 200px;max-width: 100%;overflow: auto;}#sk-container-id-1 input.sk-toggleable__control:checked~label.sk-toggleable__label-arrow:before {content: \"▾\";}#sk-container-id-1 div.sk-estimator input.sk-toggleable__control:checked~label.sk-toggleable__label {background-color: #d4ebff;}#sk-container-id-1 div.sk-label input.sk-toggleable__control:checked~label.sk-toggleable__label {background-color: #d4ebff;}#sk-container-id-1 input.sk-hidden--visually {border: 0;clip: rect(1px 1px 1px 1px);clip: rect(1px, 1px, 1px, 1px);height: 1px;margin: -1px;overflow: hidden;padding: 0;position: absolute;width: 1px;}#sk-container-id-1 div.sk-estimator {font-family: monospace;background-color: #f0f8ff;border: 1px dotted black;border-radius: 0.25em;box-sizing: border-box;margin-bottom: 0.5em;}#sk-container-id-1 div.sk-estimator:hover {background-color: #d4ebff;}#sk-container-id-1 div.sk-parallel-item::after {content: \"\";width: 100%;border-bottom: 1px solid gray;flex-grow: 1;}#sk-container-id-1 div.sk-label:hover label.sk-toggleable__label {background-color: #d4ebff;}#sk-container-id-1 div.sk-serial::before {content: \"\";position: absolute;border-left: 1px solid gray;box-sizing: border-box;top: 0;bottom: 0;left: 50%;z-index: 0;}#sk-container-id-1 div.sk-serial {display: flex;flex-direction: column;align-items: center;background-color: white;padding-right: 0.2em;padding-left: 0.2em;position: relative;}#sk-container-id-1 div.sk-item {position: relative;z-index: 1;}#sk-container-id-1 div.sk-parallel {display: flex;align-items: stretch;justify-content: center;background-color: white;position: relative;}#sk-container-id-1 div.sk-item::before, #sk-container-id-1 div.sk-parallel-item::before {content: \"\";position: absolute;border-left: 1px solid gray;box-sizing: border-box;top: 0;bottom: 0;left: 50%;z-index: -1;}#sk-container-id-1 div.sk-parallel-item {display: flex;flex-direction: column;z-index: 1;position: relative;background-color: white;}#sk-container-id-1 div.sk-parallel-item:first-child::after {align-self: flex-end;width: 50%;}#sk-container-id-1 div.sk-parallel-item:last-child::after {align-self: flex-start;width: 50%;}#sk-container-id-1 div.sk-parallel-item:only-child::after {width: 0;}#sk-container-id-1 div.sk-dashed-wrapped {border: 1px dashed gray;margin: 0 0.4em 0.5em 0.4em;box-sizing: border-box;padding-bottom: 0.4em;background-color: white;}#sk-container-id-1 div.sk-label label {font-family: monospace;font-weight: bold;display: inline-block;line-height: 1.2em;}#sk-container-id-1 div.sk-label-container {text-align: center;}#sk-container-id-1 div.sk-container {/* jupyter's `normalize.less` sets `[hidden] { display: none; }` but bootstrap.min.css set `[hidden] { display: none !important; }` so we also need the `!important` here to be able to override the default hidden behavior on the sphinx rendered scikit-learn.org. See: https://github.com/scikit-learn/scikit-learn/issues/21755 */display: inline-block !important;position: relative;}#sk-container-id-1 div.sk-text-repr-fallback {display: none;}</style><div id=\"sk-container-id-1\" class=\"sk-top-container\"><div class=\"sk-text-repr-fallback\"><pre>RandomForestClassifier()</pre><b>In a Jupyter environment, please rerun this cell to show the HTML representation or trust the notebook. <br />On GitHub, the HTML representation is unable to render, please try loading this page with nbviewer.org.</b></div><div class=\"sk-container\" hidden><div class=\"sk-item\"><div class=\"sk-estimator sk-toggleable\"><input class=\"sk-toggleable__control sk-hidden--visually\" id=\"sk-estimator-id-1\" type=\"checkbox\" checked><label for=\"sk-estimator-id-1\" class=\"sk-toggleable__label sk-toggleable__label-arrow\">RandomForestClassifier</label><div class=\"sk-toggleable__content\"><pre>RandomForestClassifier()</pre></div></div></div></div></div>"
            ]
          },
          "metadata": {},
          "execution_count": 20
        }
      ]
    },
    {
      "cell_type": "code",
      "source": [
        "y_pred = classifier.predict(X_test)"
      ],
      "metadata": {
        "id": "fER9gSrn66Q-"
      },
      "execution_count": null,
      "outputs": []
    },
    {
      "cell_type": "code",
      "source": [
        "y_pred"
      ],
      "metadata": {
        "colab": {
          "base_uri": "https://localhost:8080/"
        },
        "id": "AioS42m-CRiz",
        "outputId": "68e14e5c-1903-4f41-adc1-fcbca6138519"
      },
      "execution_count": null,
      "outputs": [
        {
          "output_type": "execute_result",
          "data": {
            "text/plain": [
              "array([0, 1, 0, ..., 1, 0, 0])"
            ]
          },
          "metadata": {},
          "execution_count": 22
        }
      ]
    },
    {
      "cell_type": "code",
      "source": [
        "import matplotlib.pyplot as plt"
      ],
      "metadata": {
        "id": "5mXqboWv8Y_T"
      },
      "execution_count": null,
      "outputs": []
    },
    {
      "cell_type": "code",
      "source": [
        "plt.plot(y_test, \"b\")\n",
        "plt.show()"
      ],
      "metadata": {
        "colab": {
          "base_uri": "https://localhost:8080/",
          "height": 430
        },
        "id": "EcHqmCyKdje3",
        "outputId": "2ad02640-ad76-47f3-e17e-10de4c479c85"
      },
      "execution_count": null,
      "outputs": [
        {
          "output_type": "display_data",
          "data": {
            "text/plain": [
              "<Figure size 640x480 with 1 Axes>"
            ],
            "image/png": "[encoded data removed]"
          },
          "metadata": {}
        }
      ]
    },
    {
      "cell_type": "code",
      "source": [
        "\n",
        "plt.plot(y_pred, \"r\")\n",
        "plt.show()"
      ],
      "metadata": {
        "colab": {
          "base_uri": "https://localhost:8080/",
          "height": 430
        },
        "id": "tw1fbckf_X8z",
        "outputId": "d4611b5f-5773-4f11-cfd3-f914417ca84f"
      },
      "execution_count": null,
      "outputs": [
        {
          "output_type": "display_data",
          "data": {
            "text/plain": [
              "<Figure size 640x480 with 1 Axes>"
            ],
            "image/png": "[encoded data removed]"
          },
          "metadata": {}
        }
      ]
    },
    {
      "cell_type": "code",
      "source": [
        "from sklearn.metrics import accuracy_score"
      ],
      "metadata": {
        "id": "hTrzFdir_1oB"
      },
      "execution_count": null,
      "outputs": []
    },
    {
      "cell_type": "code",
      "source": [
        "accuracy_score(y_test, y_pred)"
      ],
      "metadata": {
        "colab": {
          "base_uri": "https://localhost:8080/"
        },
        "id": "FHIM1bG4AxpD",
        "outputId": "360d05de-9328-493f-9b80-f4cdf00eca47"
      },
      "execution_count": null,
      "outputs": [
        {
          "output_type": "execute_result",
          "data": {
            "text/plain": [
              "0.8193333333333334"
            ]
          },
          "metadata": {},
          "execution_count": 27
        }
      ]
    },
    {
      "cell_type": "code",
      "source": [
        "from sklearn.metrics import confusion_matrix, classification_report"
      ],
      "metadata": {
        "id": "ttiidiuwCfUg"
      },
      "execution_count": null,
      "outputs": []
    },
    {
      "cell_type": "code",
      "source": [
        "confusion_matrix(y_test, y_pred)"
      ],
      "metadata": {
        "colab": {
          "base_uri": "https://localhost:8080/"
        },
        "id": "JrWtQ2AzBmmU",
        "outputId": "aa5eea3f-8f38-4e71-e806-fee1433acfae"
      },
      "execution_count": null,
      "outputs": [
        {
          "output_type": "execute_result",
          "data": {
            "text/plain": [
              "array([[4405,  261],\n",
              "       [ 823,  511]])"
            ]
          },
          "metadata": {},
          "execution_count": 29
        }
      ]
    },
    {
      "cell_type": "code",
      "source": [
        "print(classification_report(y_test, y_pred))"
      ],
      "metadata": {
        "colab": {
          "base_uri": "https://localhost:8080/"
        },
        "id": "M6pUb2_bCdNY",
        "outputId": "1e28ae3a-813b-4f79-eaa0-89a7c65a62a9"
      },
      "execution_count": null,
      "outputs": [
        {
          "output_type": "stream",
          "name": "stdout",
          "text": [
            "              precision    recall  f1-score   support\n",
            "\n",
            "           0       0.84      0.94      0.89      4666\n",
            "           1       0.66      0.38      0.49      1334\n",
            "\n",
            "    accuracy                           0.82      6000\n",
            "   macro avg       0.75      0.66      0.69      6000\n",
            "weighted avg       0.80      0.82      0.80      6000\n",
            "\n"
          ]
        }
      ]
    },
    {
      "cell_type": "code",
      "source": [
        "import keras\n",
        "from keras.models import Sequential\n",
        "from keras.layers import Dense"
      ],
      "metadata": {
        "id": "VDh3nlf6uTBk"
      },
      "execution_count": null,
      "outputs": []
    },
    {
      "cell_type": "code",
      "source": [
        "classifier = Sequential()\n",
        "classifier.add(Dense(units=32, kernel_initializer='uniform', activation='relu', input_dim=23))\n",
        "classifier.add(Dense(units=64, kernel_initializer='uniform', activation='relu'))\n",
        "classifier.add(Dense(units=10, kernel_initializer='uniform', activation='relu'))\n",
        "classifier.add(Dense(units=1, kernel_initializer='uniform', activation='sigmoid'))"
      ],
      "metadata": {
        "id": "NNIN0wGIC1KG"
      },
      "execution_count": null,
      "outputs": []
    },
    {
      "cell_type": "code",
      "source": [
        "classifier.compile(optimizer='adam', loss='binary_crossentropy', metrics=['accuracy'])"
      ],
      "metadata": {
        "id": "Xf0HTrcduTja"
      },
      "execution_count": null,
      "outputs": []
    },
    {
      "cell_type": "code",
      "source": [
        "X_train, X_test, y_train, y_test = train_test_split(X, y, test_size = 0.2, random_state = 17)"
      ],
      "metadata": {
        "id": "FAWyVeh1wifi"
      },
      "execution_count": null,
      "outputs": []
    },
    {
      "cell_type": "code",
      "source": [
        "classifier.fit(X_train, y_train, batch_size=100, epochs=100)"
      ],
      "metadata": {
        "colab": {
          "base_uri": "https://localhost:8080/"
        },
        "id": "VXsYCs7YucF5",
        "outputId": "c17d9763-7a02-4a32-971c-6db079a13a91"
      },
      "execution_count": null,
      "outputs": [
        {
          "output_type": "stream",
          "name": "stdout",
          "text": [
            "Epoch 1/100\n",
            "240/240 [==============================] - 1s 2ms/step - loss: 0.4723 - accuracy: 0.7868\n",
            "Epoch 2/100\n",
            "240/240 [==============================] - 1s 2ms/step - loss: 0.4729 - accuracy: 0.7853\n",
            "Epoch 3/100\n",
            "240/240 [==============================] - 0s 2ms/step - loss: 0.4717 - accuracy: 0.7875\n",
            "Epoch 4/100\n",
            "240/240 [==============================] - 0s 2ms/step - loss: 0.4755 - accuracy: 0.7852\n",
            "Epoch 5/100\n",
            "240/240 [==============================] - 1s 2ms/step - loss: 0.4750 - accuracy: 0.7859\n",
            "Epoch 6/100\n",
            "240/240 [==============================] - 1s 2ms/step - loss: 0.4766 - accuracy: 0.7848\n",
            "Epoch 7/100\n",
            "240/240 [==============================] - 0s 2ms/step - loss: 0.4725 - accuracy: 0.7864\n",
            "Epoch 8/100\n",
            "240/240 [==============================] - 0s 2ms/step - loss: 0.4751 - accuracy: 0.7867\n",
            "Epoch 9/100\n",
            "240/240 [==============================] - 0s 2ms/step - loss: 0.4724 - accuracy: 0.7873\n",
            "Epoch 10/100\n",
            "240/240 [==============================] - 1s 2ms/step - loss: 0.4730 - accuracy: 0.7860\n",
            "Epoch 11/100\n",
            "240/240 [==============================] - 1s 3ms/step - loss: 0.4743 - accuracy: 0.7857\n",
            "Epoch 12/100\n",
            "240/240 [==============================] - 1s 3ms/step - loss: 0.4713 - accuracy: 0.7863\n",
            "Epoch 13/100\n",
            "240/240 [==============================] - 1s 3ms/step - loss: 0.4695 - accuracy: 0.7868\n",
            "Epoch 14/100\n",
            "240/240 [==============================] - 1s 3ms/step - loss: 0.4697 - accuracy: 0.7858\n",
            "Epoch 15/100\n",
            "240/240 [==============================] - 1s 3ms/step - loss: 0.4705 - accuracy: 0.7868\n",
            "Epoch 16/100\n",
            "240/240 [==============================] - 0s 2ms/step - loss: 0.4707 - accuracy: 0.7877\n",
            "Epoch 17/100\n",
            "240/240 [==============================] - 1s 2ms/step - loss: 0.4721 - accuracy: 0.7859\n",
            "Epoch 18/100\n",
            "240/240 [==============================] - 1s 2ms/step - loss: 0.4758 - accuracy: 0.7858\n",
            "Epoch 19/100\n",
            "240/240 [==============================] - 0s 2ms/step - loss: 0.4704 - accuracy: 0.7867\n",
            "Epoch 20/100\n",
            "240/240 [==============================] - 0s 2ms/step - loss: 0.4739 - accuracy: 0.7864\n",
            "Epoch 21/100\n",
            "240/240 [==============================] - 0s 2ms/step - loss: 0.4709 - accuracy: 0.7888\n",
            "Epoch 22/100\n",
            "240/240 [==============================] - 0s 2ms/step - loss: 0.4727 - accuracy: 0.7874\n",
            "Epoch 23/100\n",
            "240/240 [==============================] - 1s 2ms/step - loss: 0.4704 - accuracy: 0.7891\n",
            "Epoch 24/100\n",
            "240/240 [==============================] - 1s 2ms/step - loss: 0.4738 - accuracy: 0.7835\n",
            "Epoch 25/100\n",
            "240/240 [==============================] - 0s 2ms/step - loss: 0.4712 - accuracy: 0.7868\n",
            "Epoch 26/100\n",
            "240/240 [==============================] - 0s 2ms/step - loss: 0.4705 - accuracy: 0.7872\n",
            "Epoch 27/100\n",
            "240/240 [==============================] - 0s 2ms/step - loss: 0.4705 - accuracy: 0.7887\n",
            "Epoch 28/100\n",
            "240/240 [==============================] - 0s 2ms/step - loss: 0.4699 - accuracy: 0.7855\n",
            "Epoch 29/100\n",
            "240/240 [==============================] - 1s 2ms/step - loss: 0.4696 - accuracy: 0.7861\n",
            "Epoch 30/100\n",
            "240/240 [==============================] - 1s 2ms/step - loss: 0.4693 - accuracy: 0.7870\n",
            "Epoch 31/100\n",
            "240/240 [==============================] - 1s 2ms/step - loss: 0.4680 - accuracy: 0.7886\n",
            "Epoch 32/100\n",
            "240/240 [==============================] - 0s 2ms/step - loss: 0.4714 - accuracy: 0.7868\n",
            "Epoch 33/100\n",
            "240/240 [==============================] - 1s 2ms/step - loss: 0.4738 - accuracy: 0.7853\n",
            "Epoch 34/100\n",
            "240/240 [==============================] - 1s 2ms/step - loss: 0.4772 - accuracy: 0.7803\n",
            "Epoch 35/100\n",
            "240/240 [==============================] - 1s 3ms/step - loss: 0.4741 - accuracy: 0.7811\n",
            "Epoch 36/100\n",
            "240/240 [==============================] - 1s 4ms/step - loss: 0.4759 - accuracy: 0.7798\n",
            "Epoch 37/100\n",
            "240/240 [==============================] - 1s 4ms/step - loss: 0.4709 - accuracy: 0.7811\n",
            "Epoch 38/100\n",
            "240/240 [==============================] - 1s 3ms/step - loss: 0.4727 - accuracy: 0.7894\n",
            "Epoch 39/100\n",
            "240/240 [==============================] - 1s 3ms/step - loss: 0.4715 - accuracy: 0.7839\n",
            "Epoch 40/100\n",
            "240/240 [==============================] - 1s 2ms/step - loss: 0.4731 - accuracy: 0.7834\n",
            "Epoch 41/100\n",
            "240/240 [==============================] - 1s 2ms/step - loss: 0.4670 - accuracy: 0.7891\n",
            "Epoch 42/100\n",
            "240/240 [==============================] - 1s 2ms/step - loss: 0.4698 - accuracy: 0.7865\n",
            "Epoch 43/100\n",
            "240/240 [==============================] - 1s 2ms/step - loss: 0.4712 - accuracy: 0.7887\n",
            "Epoch 44/100\n",
            "240/240 [==============================] - 0s 2ms/step - loss: 0.4695 - accuracy: 0.7855\n",
            "Epoch 45/100\n",
            "240/240 [==============================] - 0s 2ms/step - loss: 0.4671 - accuracy: 0.7885\n",
            "Epoch 46/100\n",
            "240/240 [==============================] - 1s 2ms/step - loss: 0.4674 - accuracy: 0.7862\n",
            "Epoch 47/100\n",
            "240/240 [==============================] - 1s 2ms/step - loss: 0.4753 - accuracy: 0.7823\n",
            "Epoch 48/100\n",
            "240/240 [==============================] - 1s 2ms/step - loss: 0.4690 - accuracy: 0.7896\n",
            "Epoch 49/100\n",
            "240/240 [==============================] - 1s 2ms/step - loss: 0.4774 - accuracy: 0.7853\n",
            "Epoch 50/100\n",
            "240/240 [==============================] - 1s 2ms/step - loss: 0.4696 - accuracy: 0.7873\n",
            "Epoch 51/100\n",
            "240/240 [==============================] - 1s 2ms/step - loss: 0.4681 - accuracy: 0.7862\n",
            "Epoch 52/100\n",
            "240/240 [==============================] - 1s 2ms/step - loss: 0.4699 - accuracy: 0.7824\n",
            "Epoch 53/100\n",
            "240/240 [==============================] - 1s 2ms/step - loss: 0.4688 - accuracy: 0.7875\n",
            "Epoch 54/100\n",
            "240/240 [==============================] - 1s 2ms/step - loss: 0.4699 - accuracy: 0.7866\n",
            "Epoch 55/100\n",
            "240/240 [==============================] - 1s 2ms/step - loss: 0.4692 - accuracy: 0.7866\n",
            "Epoch 56/100\n",
            "240/240 [==============================] - 0s 2ms/step - loss: 0.4682 - accuracy: 0.7887\n",
            "Epoch 57/100\n",
            "240/240 [==============================] - 1s 2ms/step - loss: 0.4764 - accuracy: 0.7843\n",
            "Epoch 58/100\n",
            "240/240 [==============================] - 1s 2ms/step - loss: 0.4697 - accuracy: 0.7874\n",
            "Epoch 59/100\n",
            "240/240 [==============================] - 2s 8ms/step - loss: 0.4698 - accuracy: 0.7820\n",
            "Epoch 60/100\n",
            "240/240 [==============================] - 1s 3ms/step - loss: 0.4705 - accuracy: 0.7835\n",
            "Epoch 61/100\n",
            "240/240 [==============================] - 1s 3ms/step - loss: 0.4706 - accuracy: 0.7891\n",
            "Epoch 62/100\n",
            "240/240 [==============================] - 1s 3ms/step - loss: 0.4741 - accuracy: 0.7826\n",
            "Epoch 63/100\n",
            "240/240 [==============================] - 0s 2ms/step - loss: 0.4754 - accuracy: 0.7832\n",
            "Epoch 64/100\n",
            "240/240 [==============================] - 0s 2ms/step - loss: 0.4696 - accuracy: 0.7807\n",
            "Epoch 65/100\n",
            "240/240 [==============================] - 0s 2ms/step - loss: 0.4712 - accuracy: 0.7828\n",
            "Epoch 66/100\n",
            "240/240 [==============================] - 0s 2ms/step - loss: 0.4702 - accuracy: 0.7860\n",
            "Epoch 67/100\n",
            "240/240 [==============================] - 1s 2ms/step - loss: 0.4686 - accuracy: 0.7832\n",
            "Epoch 68/100\n",
            "240/240 [==============================] - 1s 2ms/step - loss: 0.4677 - accuracy: 0.7872\n",
            "Epoch 69/100\n",
            "240/240 [==============================] - 1s 2ms/step - loss: 0.4686 - accuracy: 0.7861\n",
            "Epoch 70/100\n",
            "240/240 [==============================] - 1s 2ms/step - loss: 0.4662 - accuracy: 0.7853\n",
            "Epoch 71/100\n",
            "240/240 [==============================] - 1s 2ms/step - loss: 0.4665 - accuracy: 0.7868\n",
            "Epoch 72/100\n",
            "240/240 [==============================] - 0s 2ms/step - loss: 0.4684 - accuracy: 0.7879\n",
            "Epoch 73/100\n",
            "240/240 [==============================] - 1s 2ms/step - loss: 0.4696 - accuracy: 0.7838\n",
            "Epoch 74/100\n",
            "240/240 [==============================] - 1s 2ms/step - loss: 0.4649 - accuracy: 0.7898\n",
            "Epoch 75/100\n",
            "240/240 [==============================] - 0s 2ms/step - loss: 0.4688 - accuracy: 0.7891\n",
            "Epoch 76/100\n",
            "240/240 [==============================] - 0s 2ms/step - loss: 0.4710 - accuracy: 0.7870\n",
            "Epoch 77/100\n",
            "240/240 [==============================] - 1s 2ms/step - loss: 0.4689 - accuracy: 0.7831\n",
            "Epoch 78/100\n",
            "240/240 [==============================] - 1s 2ms/step - loss: 0.4665 - accuracy: 0.7857\n",
            "Epoch 79/100\n",
            "240/240 [==============================] - 1s 2ms/step - loss: 0.4683 - accuracy: 0.7863\n",
            "Epoch 80/100\n",
            "240/240 [==============================] - 1s 2ms/step - loss: 0.4686 - accuracy: 0.7810\n",
            "Epoch 81/100\n",
            "240/240 [==============================] - 1s 2ms/step - loss: 0.4669 - accuracy: 0.7837\n",
            "Epoch 82/100\n",
            "240/240 [==============================] - 1s 4ms/step - loss: 0.4667 - accuracy: 0.7872\n",
            "Epoch 83/100\n",
            "240/240 [==============================] - 1s 3ms/step - loss: 0.4679 - accuracy: 0.7819\n",
            "Epoch 84/100\n",
            "240/240 [==============================] - 1s 3ms/step - loss: 0.4756 - accuracy: 0.7786\n",
            "Epoch 85/100\n",
            "240/240 [==============================] - 1s 4ms/step - loss: 0.4736 - accuracy: 0.7802\n",
            "Epoch 86/100\n",
            "240/240 [==============================] - 1s 2ms/step - loss: 0.4683 - accuracy: 0.7828\n",
            "Epoch 87/100\n",
            "240/240 [==============================] - 0s 2ms/step - loss: 0.4713 - accuracy: 0.7779\n",
            "Epoch 88/100\n",
            "240/240 [==============================] - 0s 2ms/step - loss: 0.4679 - accuracy: 0.7871\n",
            "Epoch 89/100\n",
            "240/240 [==============================] - 0s 2ms/step - loss: 0.4672 - accuracy: 0.7873\n",
            "Epoch 90/100\n",
            "240/240 [==============================] - 1s 2ms/step - loss: 0.4705 - accuracy: 0.7827\n",
            "Epoch 91/100\n",
            "240/240 [==============================] - 1s 2ms/step - loss: 0.4701 - accuracy: 0.7835\n",
            "Epoch 92/100\n",
            "240/240 [==============================] - 0s 2ms/step - loss: 0.4662 - accuracy: 0.7890\n",
            "Epoch 93/100\n",
            "240/240 [==============================] - 0s 2ms/step - loss: 0.4677 - accuracy: 0.7880\n",
            "Epoch 94/100\n",
            "240/240 [==============================] - 0s 2ms/step - loss: 0.4671 - accuracy: 0.7872\n",
            "Epoch 95/100\n",
            "240/240 [==============================] - 0s 2ms/step - loss: 0.4688 - accuracy: 0.7836\n",
            "Epoch 96/100\n",
            "240/240 [==============================] - 0s 2ms/step - loss: 0.4655 - accuracy: 0.7885\n",
            "Epoch 97/100\n",
            "240/240 [==============================] - 0s 2ms/step - loss: 0.4652 - accuracy: 0.7898\n",
            "Epoch 98/100\n",
            "240/240 [==============================] - 1s 2ms/step - loss: 0.4653 - accuracy: 0.7890\n",
            "Epoch 99/100\n",
            "240/240 [==============================] - 1s 2ms/step - loss: 0.4651 - accuracy: 0.7854\n",
            "Epoch 100/100\n",
            "240/240 [==============================] - 1s 2ms/step - loss: 0.4675 - accuracy: 0.7887\n"
          ]
        },
        {
          "output_type": "execute_result",
          "data": {
            "text/plain": [
              "<keras.src.callbacks.History at 0x7bde6bf73f10>"
            ]
          },
          "metadata": {},
          "execution_count": 45
        }
      ]
    },
    {
      "cell_type": "code",
      "source": [
        "y_pred = classifier.predict(X_test)"
      ],
      "metadata": {
        "colab": {
          "base_uri": "https://localhost:8080/"
        },
        "id": "Nno5ojNFuify",
        "outputId": "c4ad5e71-b47b-4ca7-eb92-c43cd35b59b3"
      },
      "execution_count": null,
      "outputs": [
        {
          "output_type": "stream",
          "name": "stdout",
          "text": [
            "188/188 [==============================] - 1s 2ms/step\n"
          ]
        }
      ]
    },
    {
      "cell_type": "code",
      "source": [
        "y_pred"
      ],
      "metadata": {
        "colab": {
          "base_uri": "https://localhost:8080/"
        },
        "id": "TFRRaGCVvHgD",
        "outputId": "89c36b6c-82d8-437a-d379-5977f4d1ccdb"
      },
      "execution_count": null,
      "outputs": [
        {
          "output_type": "execute_result",
          "data": {
            "text/plain": [
              "array([[0.3345132 ],\n",
              "       [0.5150288 ],\n",
              "       [0.1636363 ],\n",
              "       ...,\n",
              "       [0.05178573],\n",
              "       [0.2194413 ],\n",
              "       [0.16313222]], dtype=float32)"
            ]
          },
          "metadata": {},
          "execution_count": 47
        }
      ]
    },
    {
      "cell_type": "code",
      "source": [
        "binary_predictions = (y_pred > 0.5).astype(int)"
      ],
      "metadata": {
        "id": "LdNuQd-WXwbU"
      },
      "execution_count": null,
      "outputs": []
    },
    {
      "cell_type": "code",
      "source": [
        "binary_predictions"
      ],
      "metadata": {
        "colab": {
          "base_uri": "https://localhost:8080/"
        },
        "id": "6gDgBiQxX1Sh",
        "outputId": "47b69de5-8674-45a4-9a53-af5c0d2eb90f"
      },
      "execution_count": null,
      "outputs": [
        {
          "output_type": "execute_result",
          "data": {
            "text/plain": [
              "array([[0],\n",
              "       [1],\n",
              "       [0],\n",
              "       ...,\n",
              "       [0],\n",
              "       [0],\n",
              "       [0]])"
            ]
          },
          "metadata": {},
          "execution_count": 50
        }
      ]
    },
    {
      "cell_type": "code",
      "source": [
        "print(\"Accuracy:\", accuracy_score(y_test, binary_predictions))\n",
        "print(confusion_matrix(y_test, binary_predictions))\n",
        "print(classification_report(y_test, binary_predictions))"
      ],
      "metadata": {
        "colab": {
          "base_uri": "https://localhost:8080/"
        },
        "id": "qAeljcniX4Hx",
        "outputId": "f880147f-2cd8-4f77-b2e3-2f69dd42b781"
      },
      "execution_count": null,
      "outputs": [
        {
          "output_type": "stream",
          "name": "stdout",
          "text": [
            "Accuracy: 0.7793333333333333\n",
            "[[4265  421]\n",
            " [ 903  411]]\n",
            "              precision    recall  f1-score   support\n",
            "\n",
            "           0       0.83      0.91      0.87      4686\n",
            "           1       0.49      0.31      0.38      1314\n",
            "\n",
            "    accuracy                           0.78      6000\n",
            "   macro avg       0.66      0.61      0.62      6000\n",
            "weighted avg       0.75      0.78      0.76      6000\n",
            "\n"
          ]
        }
      ]
    },
    {
      "cell_type": "code",
      "source": [
        "from tensorflow.keras.initializers import HeNormal"
      ],
      "metadata": {
        "id": "IEbTW-1oWrGU"
      },
      "execution_count": null,
      "outputs": []
    },
    {
      "cell_type": "code",
      "source": [
        "classifier = Sequential()\n",
        "classifier.add(Dense(units=32, kernel_initializer=HeNormal(), activation='relu', input_dim=23))\n",
        "classifier.add(Dense(units=64, kernel_initializer=HeNormal(), activation='relu'))\n",
        "classifier.add(Dense(units=10, kernel_initializer=HeNormal(), activation='relu'))\n",
        "classifier.add(Dense(units=1, kernel_initializer='uniform', activation='sigmoid'))"
      ],
      "metadata": {
        "id": "2s7u0UD5V1BE"
      },
      "execution_count": null,
      "outputs": []
    },
    {
      "cell_type": "code",
      "source": [
        "classifier.compile(optimizer='adam', loss='binary_crossentropy', metrics=['accuracy'])"
      ],
      "metadata": {
        "id": "p-aHTmW9Ylzn"
      },
      "execution_count": null,
      "outputs": []
    },
    {
      "cell_type": "code",
      "source": [
        "classifier.fit(X_train, y_train, batch_size=100, epochs=100)"
      ],
      "metadata": {
        "colab": {
          "base_uri": "https://localhost:8080/"
        },
        "id": "v7wI8Lj6YcMX",
        "outputId": "c4190ee8-bb6b-46e9-9d52-23cbb49d1c82"
      },
      "execution_count": null,
      "outputs": [
        {
          "output_type": "stream",
          "name": "stdout",
          "text": [
            "Epoch 1/100\n",
            "240/240 [==============================] - 2s 2ms/step - loss: 45.3464 - accuracy: 0.6840\n",
            "Epoch 2/100\n",
            "240/240 [==============================] - 0s 2ms/step - loss: 9.9302 - accuracy: 0.6955\n",
            "Epoch 3/100\n",
            "240/240 [==============================] - 0s 2ms/step - loss: 5.6312 - accuracy: 0.6910\n",
            "Epoch 4/100\n",
            "240/240 [==============================] - 1s 2ms/step - loss: 3.3983 - accuracy: 0.6877\n",
            "Epoch 5/100\n",
            "240/240 [==============================] - 1s 2ms/step - loss: 1.4130 - accuracy: 0.6865\n",
            "Epoch 6/100\n",
            "240/240 [==============================] - 1s 2ms/step - loss: 0.8177 - accuracy: 0.7107\n",
            "Epoch 7/100\n",
            "240/240 [==============================] - 1s 2ms/step - loss: 0.7484 - accuracy: 0.7230\n",
            "Epoch 8/100\n",
            "240/240 [==============================] - 0s 2ms/step - loss: 0.6508 - accuracy: 0.7367\n",
            "Epoch 9/100\n",
            "240/240 [==============================] - 1s 2ms/step - loss: 0.6193 - accuracy: 0.7467\n",
            "Epoch 10/100\n",
            "240/240 [==============================] - 1s 2ms/step - loss: 0.5755 - accuracy: 0.7670\n",
            "Epoch 11/100\n",
            "240/240 [==============================] - 1s 2ms/step - loss: 0.5716 - accuracy: 0.7696\n",
            "Epoch 12/100\n",
            "240/240 [==============================] - 1s 2ms/step - loss: 0.5907 - accuracy: 0.7692\n",
            "Epoch 13/100\n",
            "240/240 [==============================] - 1s 2ms/step - loss: 0.5711 - accuracy: 0.7711\n",
            "Epoch 14/100\n",
            "240/240 [==============================] - 1s 3ms/step - loss: 0.5665 - accuracy: 0.7732\n",
            "Epoch 15/100\n",
            "240/240 [==============================] - 1s 3ms/step - loss: 0.5599 - accuracy: 0.7738\n",
            "Epoch 16/100\n",
            "240/240 [==============================] - 1s 4ms/step - loss: 0.5559 - accuracy: 0.7749\n",
            "Epoch 17/100\n",
            "240/240 [==============================] - 1s 3ms/step - loss: 0.5571 - accuracy: 0.7752\n",
            "Epoch 18/100\n",
            "240/240 [==============================] - 1s 3ms/step - loss: 0.5444 - accuracy: 0.7766\n",
            "Epoch 19/100\n",
            "240/240 [==============================] - 1s 3ms/step - loss: 0.5437 - accuracy: 0.7768\n",
            "Epoch 20/100\n",
            "240/240 [==============================] - 1s 2ms/step - loss: 0.5293 - accuracy: 0.7774\n",
            "Epoch 21/100\n",
            "240/240 [==============================] - 1s 2ms/step - loss: 0.5363 - accuracy: 0.7778\n",
            "Epoch 22/100\n",
            "240/240 [==============================] - 1s 3ms/step - loss: 0.5299 - accuracy: 0.7780\n",
            "Epoch 23/100\n",
            "240/240 [==============================] - 1s 2ms/step - loss: 0.5283 - accuracy: 0.7783\n",
            "Epoch 24/100\n",
            "240/240 [==============================] - 1s 2ms/step - loss: 0.5278 - accuracy: 0.7784\n",
            "Epoch 25/100\n",
            "240/240 [==============================] - 1s 2ms/step - loss: 0.5278 - accuracy: 0.7784\n",
            "Epoch 26/100\n",
            "240/240 [==============================] - 0s 2ms/step - loss: 0.5275 - accuracy: 0.7785\n",
            "Epoch 27/100\n",
            "240/240 [==============================] - 1s 2ms/step - loss: 0.5278 - accuracy: 0.7784\n",
            "Epoch 28/100\n",
            "240/240 [==============================] - 1s 2ms/step - loss: 0.5274 - accuracy: 0.7785\n",
            "Epoch 29/100\n",
            "240/240 [==============================] - 1s 2ms/step - loss: 0.5274 - accuracy: 0.7784\n",
            "Epoch 30/100\n",
            "240/240 [==============================] - 1s 3ms/step - loss: 0.5284 - accuracy: 0.7782\n",
            "Epoch 31/100\n",
            "240/240 [==============================] - 1s 2ms/step - loss: 0.5267 - accuracy: 0.7786\n",
            "Epoch 32/100\n",
            "240/240 [==============================] - 1s 3ms/step - loss: 0.5265 - accuracy: 0.7785\n",
            "Epoch 33/100\n",
            "240/240 [==============================] - 0s 2ms/step - loss: 0.5265 - accuracy: 0.7785\n",
            "Epoch 34/100\n",
            "240/240 [==============================] - 0s 2ms/step - loss: 0.5271 - accuracy: 0.7782\n",
            "Epoch 35/100\n",
            "240/240 [==============================] - 1s 2ms/step - loss: 0.5267 - accuracy: 0.7781\n",
            "Epoch 36/100\n",
            "240/240 [==============================] - 1s 2ms/step - loss: 0.5259 - accuracy: 0.7785\n",
            "Epoch 37/100\n",
            "240/240 [==============================] - 1s 4ms/step - loss: 0.5260 - accuracy: 0.7785\n",
            "Epoch 38/100\n",
            "240/240 [==============================] - 1s 4ms/step - loss: 0.5267 - accuracy: 0.7785\n",
            "Epoch 39/100\n",
            "240/240 [==============================] - 1s 4ms/step - loss: 0.5336 - accuracy: 0.7783\n",
            "Epoch 40/100\n",
            "240/240 [==============================] - 1s 3ms/step - loss: 0.5267 - accuracy: 0.7785\n",
            "Epoch 41/100\n",
            "240/240 [==============================] - 1s 3ms/step - loss: 0.5266 - accuracy: 0.7785\n",
            "Epoch 42/100\n",
            "240/240 [==============================] - 1s 2ms/step - loss: 0.5266 - accuracy: 0.7785\n",
            "Epoch 43/100\n",
            "240/240 [==============================] - 1s 2ms/step - loss: 0.5260 - accuracy: 0.7784\n",
            "Epoch 44/100\n",
            "240/240 [==============================] - 1s 2ms/step - loss: 0.5305 - accuracy: 0.7778\n",
            "Epoch 45/100\n",
            "240/240 [==============================] - 1s 2ms/step - loss: 0.5290 - accuracy: 0.7782\n",
            "Epoch 46/100\n",
            "240/240 [==============================] - 1s 2ms/step - loss: 0.5290 - accuracy: 0.7782\n",
            "Epoch 47/100\n",
            "240/240 [==============================] - 1s 2ms/step - loss: 0.5287 - accuracy: 0.7782\n",
            "Epoch 48/100\n",
            "240/240 [==============================] - 1s 2ms/step - loss: 0.5298 - accuracy: 0.7782\n",
            "Epoch 49/100\n",
            "240/240 [==============================] - 0s 2ms/step - loss: 0.5291 - accuracy: 0.7782\n",
            "Epoch 50/100\n",
            "240/240 [==============================] - 0s 2ms/step - loss: 0.5291 - accuracy: 0.7782\n",
            "Epoch 51/100\n",
            "240/240 [==============================] - 1s 2ms/step - loss: 0.5291 - accuracy: 0.7782\n",
            "Epoch 52/100\n",
            "240/240 [==============================] - 1s 2ms/step - loss: 0.5291 - accuracy: 0.7782\n",
            "Epoch 53/100\n",
            "240/240 [==============================] - 1s 2ms/step - loss: 0.5291 - accuracy: 0.7782\n",
            "Epoch 54/100\n",
            "240/240 [==============================] - 1s 2ms/step - loss: 0.5291 - accuracy: 0.7782\n",
            "Epoch 55/100\n",
            "240/240 [==============================] - 1s 2ms/step - loss: 0.5291 - accuracy: 0.7782\n",
            "Epoch 56/100\n",
            "240/240 [==============================] - 1s 2ms/step - loss: 0.5291 - accuracy: 0.7782\n",
            "Epoch 57/100\n",
            "240/240 [==============================] - 1s 2ms/step - loss: 0.5291 - accuracy: 0.7782\n",
            "Epoch 58/100\n",
            "240/240 [==============================] - 1s 2ms/step - loss: 0.5291 - accuracy: 0.7782\n",
            "Epoch 59/100\n",
            "240/240 [==============================] - 1s 3ms/step - loss: 0.5291 - accuracy: 0.7782\n",
            "Epoch 60/100\n",
            "240/240 [==============================] - 1s 3ms/step - loss: 0.5291 - accuracy: 0.7782\n",
            "Epoch 61/100\n",
            "240/240 [==============================] - 1s 3ms/step - loss: 0.5291 - accuracy: 0.7782\n",
            "Epoch 62/100\n",
            "240/240 [==============================] - 1s 4ms/step - loss: 0.5291 - accuracy: 0.7782\n",
            "Epoch 63/100\n",
            "240/240 [==============================] - 1s 4ms/step - loss: 0.5291 - accuracy: 0.7782\n",
            "Epoch 64/100\n",
            "240/240 [==============================] - 1s 3ms/step - loss: 0.5291 - accuracy: 0.7782\n",
            "Epoch 65/100\n",
            "240/240 [==============================] - 1s 3ms/step - loss: 0.5291 - accuracy: 0.7782\n",
            "Epoch 66/100\n",
            "240/240 [==============================] - 1s 2ms/step - loss: 0.5291 - accuracy: 0.7782\n",
            "Epoch 67/100\n",
            "240/240 [==============================] - 1s 2ms/step - loss: 0.5291 - accuracy: 0.7782\n",
            "Epoch 68/100\n",
            "240/240 [==============================] - 1s 2ms/step - loss: 0.5291 - accuracy: 0.7782\n",
            "Epoch 69/100\n",
            "240/240 [==============================] - 0s 2ms/step - loss: 0.5291 - accuracy: 0.7782\n",
            "Epoch 70/100\n",
            "240/240 [==============================] - 1s 2ms/step - loss: 0.5291 - accuracy: 0.7782\n",
            "Epoch 71/100\n",
            "240/240 [==============================] - 0s 2ms/step - loss: 0.5291 - accuracy: 0.7782\n",
            "Epoch 72/100\n",
            "240/240 [==============================] - 1s 2ms/step - loss: 0.5291 - accuracy: 0.7782\n",
            "Epoch 73/100\n",
            "240/240 [==============================] - 1s 2ms/step - loss: 0.5291 - accuracy: 0.7782\n",
            "Epoch 74/100\n",
            "240/240 [==============================] - 1s 2ms/step - loss: 0.5291 - accuracy: 0.7782\n",
            "Epoch 75/100\n",
            "240/240 [==============================] - 0s 2ms/step - loss: 0.5291 - accuracy: 0.7782\n",
            "Epoch 76/100\n",
            "240/240 [==============================] - 1s 2ms/step - loss: 0.5291 - accuracy: 0.7782\n",
            "Epoch 77/100\n",
            "240/240 [==============================] - 1s 2ms/step - loss: 0.5291 - accuracy: 0.7782\n",
            "Epoch 78/100\n",
            "240/240 [==============================] - 1s 2ms/step - loss: 0.5291 - accuracy: 0.7782\n",
            "Epoch 79/100\n",
            "240/240 [==============================] - 1s 2ms/step - loss: 0.5291 - accuracy: 0.7782\n",
            "Epoch 80/100\n",
            "240/240 [==============================] - 1s 2ms/step - loss: 0.5291 - accuracy: 0.7782\n",
            "Epoch 81/100\n",
            "240/240 [==============================] - 0s 2ms/step - loss: 0.5291 - accuracy: 0.7782\n",
            "Epoch 82/100\n",
            "240/240 [==============================] - 1s 3ms/step - loss: 0.5291 - accuracy: 0.7782\n",
            "Epoch 83/100\n",
            "240/240 [==============================] - 1s 4ms/step - loss: 0.5291 - accuracy: 0.7782\n",
            "Epoch 84/100\n",
            "240/240 [==============================] - 1s 4ms/step - loss: 0.5291 - accuracy: 0.7782\n",
            "Epoch 85/100\n",
            "240/240 [==============================] - 1s 4ms/step - loss: 0.5291 - accuracy: 0.7782\n",
            "Epoch 86/100\n",
            "240/240 [==============================] - 1s 3ms/step - loss: 0.5291 - accuracy: 0.7782\n",
            "Epoch 87/100\n",
            "240/240 [==============================] - 1s 3ms/step - loss: 0.5291 - accuracy: 0.7782\n",
            "Epoch 88/100\n",
            "240/240 [==============================] - 1s 2ms/step - loss: 0.5291 - accuracy: 0.7782\n",
            "Epoch 89/100\n",
            "240/240 [==============================] - 1s 2ms/step - loss: 0.5291 - accuracy: 0.7782\n",
            "Epoch 90/100\n",
            "240/240 [==============================] - 1s 2ms/step - loss: 0.5291 - accuracy: 0.7782\n",
            "Epoch 91/100\n",
            "240/240 [==============================] - 0s 2ms/step - loss: 0.5291 - accuracy: 0.7782\n",
            "Epoch 92/100\n",
            "240/240 [==============================] - 1s 2ms/step - loss: 0.5291 - accuracy: 0.7782\n",
            "Epoch 93/100\n",
            "240/240 [==============================] - 1s 2ms/step - loss: 0.5291 - accuracy: 0.7782\n",
            "Epoch 94/100\n",
            "240/240 [==============================] - 1s 2ms/step - loss: 0.5291 - accuracy: 0.7782\n",
            "Epoch 95/100\n",
            "240/240 [==============================] - 1s 2ms/step - loss: 0.5291 - accuracy: 0.7782\n",
            "Epoch 96/100\n",
            "240/240 [==============================] - 1s 2ms/step - loss: 0.5291 - accuracy: 0.7782\n",
            "Epoch 97/100\n",
            "240/240 [==============================] - 1s 2ms/step - loss: 0.5291 - accuracy: 0.7782\n",
            "Epoch 98/100\n",
            "240/240 [==============================] - 1s 2ms/step - loss: 0.5291 - accuracy: 0.7782\n",
            "Epoch 99/100\n",
            "240/240 [==============================] - 0s 2ms/step - loss: 0.5291 - accuracy: 0.7782\n",
            "Epoch 100/100\n",
            "240/240 [==============================] - 1s 2ms/step - loss: 0.5291 - accuracy: 0.7782\n"
          ]
        },
        {
          "output_type": "execute_result",
          "data": {
            "text/plain": [
              "<keras.src.callbacks.History at 0x7bde6aedb730>"
            ]
          },
          "metadata": {},
          "execution_count": 59
        }
      ]
    },
    {
      "cell_type": "code",
      "source": [
        "y_pred = classifier.predict(X_test)\n",
        "binary_predictions = (y_pred > 0.5).astype(int)\n",
        "binary_predictions"
      ],
      "metadata": {
        "colab": {
          "base_uri": "https://localhost:8080/"
        },
        "id": "rA0Q_3IDvnpb",
        "outputId": "6ac9825a-1f9e-4604-99c1-5f6787e0f169"
      },
      "execution_count": null,
      "outputs": [
        {
          "output_type": "stream",
          "name": "stdout",
          "text": [
            "188/188 [==============================] - 1s 3ms/step\n"
          ]
        },
        {
          "output_type": "execute_result",
          "data": {
            "text/plain": [
              "array([[0],\n",
              "       [0],\n",
              "       [0],\n",
              "       ...,\n",
              "       [0],\n",
              "       [0],\n",
              "       [0]])"
            ]
          },
          "metadata": {},
          "execution_count": 60
        }
      ]
    },
    {
      "cell_type": "code",
      "source": [
        "print(\"Accuracy:\", accuracy_score(y_test, binary_predictions))\n",
        "print(confusion_matrix(y_test, binary_predictions))\n",
        "print(classification_report(y_test, binary_predictions))"
      ],
      "metadata": {
        "colab": {
          "base_uri": "https://localhost:8080/"
        },
        "id": "KDn5NyANZGfM",
        "outputId": "0a4f976a-1894-4a86-9f82-fa73a98bcb55"
      },
      "execution_count": null,
      "outputs": [
        {
          "output_type": "stream",
          "name": "stdout",
          "text": [
            "Accuracy: 0.781\n",
            "[[4686    0]\n",
            " [1314    0]]\n",
            "              precision    recall  f1-score   support\n",
            "\n",
            "           0       0.78      1.00      0.88      4686\n",
            "           1       0.00      0.00      0.00      1314\n",
            "\n",
            "    accuracy                           0.78      6000\n",
            "   macro avg       0.39      0.50      0.44      6000\n",
            "weighted avg       0.61      0.78      0.68      6000\n",
            "\n"
          ]
        },
        {
          "output_type": "stream",
          "name": "stderr",
          "text": [
            "/usr/local/lib/python3.10/dist-packages/sklearn/metrics/_classification.py:1344: UndefinedMetricWarning: Precision and F-score are ill-defined and being set to 0.0 in labels with no predicted samples. Use `zero_division` parameter to control this behavior.\n",
            "  _warn_prf(average, modifier, msg_start, len(result))\n",
            "/usr/local/lib/python3.10/dist-packages/sklearn/metrics/_classification.py:1344: UndefinedMetricWarning: Precision and F-score are ill-defined and being set to 0.0 in labels with no predicted samples. Use `zero_division` parameter to control this behavior.\n",
            "  _warn_prf(average, modifier, msg_start, len(result))\n",
            "/usr/local/lib/python3.10/dist-packages/sklearn/metrics/_classification.py:1344: UndefinedMetricWarning: Precision and F-score are ill-defined and being set to 0.0 in labels with no predicted samples. Use `zero_division` parameter to control this behavior.\n",
            "  _warn_prf(average, modifier, msg_start, len(result))\n"
          ]
        }
      ]
    },
    {
      "cell_type": "code",
      "source": [
        "X_train, X_test, y_train, y_test = train_test_split(X, y, test_size = 0.1, random_state = 31)"
      ],
      "metadata": {
        "id": "gQ0Hr30FZLNc"
      },
      "execution_count": null,
      "outputs": []
    },
    {
      "cell_type": "code",
      "source": [
        "classifier.fit(X_train, y_train, batch_size=100, epochs=100)"
      ],
      "metadata": {
        "colab": {
          "base_uri": "https://localhost:8080/"
        },
        "id": "flkFWzF8ZXjD",
        "outputId": "aa96f515-0170-44e6-93eb-bd80c16d48c1"
      },
      "execution_count": null,
      "outputs": [
        {
          "output_type": "stream",
          "name": "stdout",
          "text": [
            "Epoch 1/100\n",
            "270/270 [==============================] - 1s 3ms/step - loss: 0.5266 - accuracy: 0.7802\n",
            "Epoch 2/100\n",
            "270/270 [==============================] - 1s 4ms/step - loss: 0.5266 - accuracy: 0.7802\n",
            "Epoch 3/100\n",
            "270/270 [==============================] - 1s 3ms/step - loss: 0.5266 - accuracy: 0.7802\n",
            "Epoch 4/100\n",
            "270/270 [==============================] - 1s 4ms/step - loss: 0.5266 - accuracy: 0.7802\n",
            "Epoch 5/100\n",
            "270/270 [==============================] - 1s 4ms/step - loss: 0.5266 - accuracy: 0.7802\n",
            "Epoch 6/100\n",
            "270/270 [==============================] - 1s 3ms/step - loss: 0.5266 - accuracy: 0.7802\n",
            "Epoch 7/100\n",
            "270/270 [==============================] - 1s 3ms/step - loss: 0.5266 - accuracy: 0.7802\n",
            "Epoch 8/100\n",
            "270/270 [==============================] - 1s 3ms/step - loss: 0.5266 - accuracy: 0.7802\n",
            "Epoch 9/100\n",
            "270/270 [==============================] - 1s 3ms/step - loss: 0.5266 - accuracy: 0.7802\n",
            "Epoch 10/100\n",
            "270/270 [==============================] - 1s 2ms/step - loss: 0.5266 - accuracy: 0.7802\n",
            "Epoch 11/100\n",
            "270/270 [==============================] - 1s 2ms/step - loss: 0.5266 - accuracy: 0.7802\n",
            "Epoch 12/100\n",
            "270/270 [==============================] - 1s 2ms/step - loss: 0.5266 - accuracy: 0.7802\n",
            "Epoch 13/100\n",
            "270/270 [==============================] - 1s 2ms/step - loss: 0.5266 - accuracy: 0.7802\n",
            "Epoch 14/100\n",
            "270/270 [==============================] - 1s 2ms/step - loss: 0.5266 - accuracy: 0.7802\n",
            "Epoch 15/100\n",
            "270/270 [==============================] - 1s 2ms/step - loss: 0.5266 - accuracy: 0.7802\n",
            "Epoch 16/100\n",
            "270/270 [==============================] - 1s 5ms/step - loss: 0.5266 - accuracy: 0.7802\n",
            "Epoch 17/100\n",
            "270/270 [==============================] - 1s 2ms/step - loss: 0.5266 - accuracy: 0.7802\n",
            "Epoch 18/100\n",
            "270/270 [==============================] - 1s 2ms/step - loss: 0.5266 - accuracy: 0.7802\n",
            "Epoch 19/100\n",
            "270/270 [==============================] - 1s 2ms/step - loss: 0.5266 - accuracy: 0.7802\n",
            "Epoch 20/100\n",
            "270/270 [==============================] - 1s 3ms/step - loss: 0.5266 - accuracy: 0.7802\n",
            "Epoch 21/100\n",
            "270/270 [==============================] - 1s 3ms/step - loss: 0.5266 - accuracy: 0.7802\n",
            "Epoch 22/100\n",
            "270/270 [==============================] - 1s 2ms/step - loss: 0.5266 - accuracy: 0.7802\n",
            "Epoch 23/100\n",
            "270/270 [==============================] - 1s 2ms/step - loss: 0.5266 - accuracy: 0.7802\n",
            "Epoch 24/100\n",
            "270/270 [==============================] - 1s 3ms/step - loss: 0.5266 - accuracy: 0.7802\n",
            "Epoch 25/100\n",
            "270/270 [==============================] - 1s 3ms/step - loss: 0.5266 - accuracy: 0.7802\n",
            "Epoch 26/100\n",
            "270/270 [==============================] - 1s 3ms/step - loss: 0.5266 - accuracy: 0.7802\n",
            "Epoch 27/100\n",
            "270/270 [==============================] - 1s 3ms/step - loss: 0.5266 - accuracy: 0.7802\n",
            "Epoch 28/100\n",
            "270/270 [==============================] - 1s 4ms/step - loss: 0.5266 - accuracy: 0.7802\n",
            "Epoch 29/100\n",
            "270/270 [==============================] - 1s 2ms/step - loss: 0.5266 - accuracy: 0.7802\n",
            "Epoch 30/100\n",
            "270/270 [==============================] - 1s 2ms/step - loss: 0.5266 - accuracy: 0.7802\n",
            "Epoch 31/100\n",
            "270/270 [==============================] - 1s 2ms/step - loss: 0.5266 - accuracy: 0.7802\n",
            "Epoch 32/100\n",
            "270/270 [==============================] - 1s 2ms/step - loss: 0.5266 - accuracy: 0.7802\n",
            "Epoch 33/100\n",
            "270/270 [==============================] - 1s 2ms/step - loss: 0.5266 - accuracy: 0.7802\n",
            "Epoch 34/100\n",
            "270/270 [==============================] - 1s 2ms/step - loss: 0.5266 - accuracy: 0.7802\n",
            "Epoch 35/100\n",
            "270/270 [==============================] - 1s 2ms/step - loss: 0.5266 - accuracy: 0.7802\n",
            "Epoch 36/100\n",
            "270/270 [==============================] - 1s 2ms/step - loss: 0.5266 - accuracy: 0.7802\n",
            "Epoch 37/100\n",
            "270/270 [==============================] - 1s 2ms/step - loss: 0.5266 - accuracy: 0.7802\n",
            "Epoch 38/100\n",
            "270/270 [==============================] - 1s 2ms/step - loss: 0.5266 - accuracy: 0.7802\n",
            "Epoch 39/100\n",
            "270/270 [==============================] - 1s 2ms/step - loss: 0.5266 - accuracy: 0.7802\n",
            "Epoch 40/100\n",
            "270/270 [==============================] - 1s 2ms/step - loss: 0.5266 - accuracy: 0.7802\n",
            "Epoch 41/100\n",
            "270/270 [==============================] - 1s 2ms/step - loss: 0.5266 - accuracy: 0.7802\n",
            "Epoch 42/100\n",
            "270/270 [==============================] - 1s 2ms/step - loss: 0.5266 - accuracy: 0.7802\n",
            "Epoch 43/100\n",
            "270/270 [==============================] - 1s 2ms/step - loss: 0.5266 - accuracy: 0.7802\n",
            "Epoch 44/100\n",
            "270/270 [==============================] - 1s 2ms/step - loss: 0.5266 - accuracy: 0.7802\n",
            "Epoch 45/100\n",
            "270/270 [==============================] - 1s 2ms/step - loss: 0.5266 - accuracy: 0.7802\n",
            "Epoch 46/100\n",
            "270/270 [==============================] - 1s 3ms/step - loss: 0.5266 - accuracy: 0.7802\n",
            "Epoch 47/100\n",
            "270/270 [==============================] - 1s 3ms/step - loss: 0.5266 - accuracy: 0.7802\n",
            "Epoch 48/100\n",
            "270/270 [==============================] - 1s 3ms/step - loss: 0.5266 - accuracy: 0.7802\n",
            "Epoch 49/100\n",
            "270/270 [==============================] - 1s 3ms/step - loss: 0.5266 - accuracy: 0.7802\n",
            "Epoch 50/100\n",
            "270/270 [==============================] - 1s 3ms/step - loss: 0.5266 - accuracy: 0.7802\n",
            "Epoch 51/100\n",
            "270/270 [==============================] - 1s 2ms/step - loss: 0.5266 - accuracy: 0.7802\n",
            "Epoch 52/100\n",
            "270/270 [==============================] - 1s 2ms/step - loss: 0.5266 - accuracy: 0.7802\n",
            "Epoch 53/100\n",
            "270/270 [==============================] - 1s 2ms/step - loss: 0.5266 - accuracy: 0.7802\n",
            "Epoch 54/100\n",
            "270/270 [==============================] - 1s 2ms/step - loss: 0.5266 - accuracy: 0.7802\n",
            "Epoch 55/100\n",
            "270/270 [==============================] - 1s 3ms/step - loss: 0.5266 - accuracy: 0.7802\n",
            "Epoch 56/100\n",
            "270/270 [==============================] - 1s 2ms/step - loss: 0.5266 - accuracy: 0.7802\n",
            "Epoch 57/100\n",
            "270/270 [==============================] - 1s 2ms/step - loss: 0.5266 - accuracy: 0.7802\n",
            "Epoch 58/100\n",
            "270/270 [==============================] - 1s 2ms/step - loss: 0.5266 - accuracy: 0.7802\n",
            "Epoch 59/100\n",
            "270/270 [==============================] - 1s 2ms/step - loss: 0.5266 - accuracy: 0.7802\n",
            "Epoch 60/100\n",
            "270/270 [==============================] - 1s 2ms/step - loss: 0.5266 - accuracy: 0.7802\n",
            "Epoch 61/100\n",
            "270/270 [==============================] - 1s 2ms/step - loss: 0.5266 - accuracy: 0.7802\n",
            "Epoch 62/100\n",
            "270/270 [==============================] - 1s 2ms/step - loss: 0.5266 - accuracy: 0.7802\n",
            "Epoch 63/100\n",
            "270/270 [==============================] - 1s 2ms/step - loss: 0.5266 - accuracy: 0.7802\n",
            "Epoch 64/100\n",
            "270/270 [==============================] - 1s 2ms/step - loss: 0.5266 - accuracy: 0.7802\n",
            "Epoch 65/100\n",
            "270/270 [==============================] - 1s 2ms/step - loss: 0.5266 - accuracy: 0.7802\n",
            "Epoch 66/100\n",
            "270/270 [==============================] - 1s 4ms/step - loss: 0.5266 - accuracy: 0.7802\n",
            "Epoch 67/100\n",
            "270/270 [==============================] - 2s 8ms/step - loss: 0.5266 - accuracy: 0.7802\n",
            "Epoch 68/100\n",
            "270/270 [==============================] - 2s 9ms/step - loss: 0.5266 - accuracy: 0.7802\n",
            "Epoch 69/100\n",
            "270/270 [==============================] - 1s 5ms/step - loss: 0.5266 - accuracy: 0.7802\n",
            "Epoch 70/100\n",
            "270/270 [==============================] - 2s 6ms/step - loss: 0.5266 - accuracy: 0.7802\n",
            "Epoch 71/100\n",
            "270/270 [==============================] - 1s 5ms/step - loss: 0.5266 - accuracy: 0.7802\n",
            "Epoch 72/100\n",
            "270/270 [==============================] - 2s 6ms/step - loss: 0.5266 - accuracy: 0.7802\n",
            "Epoch 73/100\n",
            "270/270 [==============================] - 1s 3ms/step - loss: 0.5266 - accuracy: 0.7802\n",
            "Epoch 74/100\n",
            "270/270 [==============================] - 1s 2ms/step - loss: 0.5266 - accuracy: 0.7802\n",
            "Epoch 75/100\n",
            "270/270 [==============================] - 1s 2ms/step - loss: 0.5266 - accuracy: 0.7802\n",
            "Epoch 76/100\n",
            "270/270 [==============================] - 1s 2ms/step - loss: 0.5266 - accuracy: 0.7802\n",
            "Epoch 77/100\n",
            "270/270 [==============================] - 1s 2ms/step - loss: 0.5266 - accuracy: 0.7802\n",
            "Epoch 78/100\n",
            "270/270 [==============================] - 1s 2ms/step - loss: 0.5266 - accuracy: 0.7802\n",
            "Epoch 79/100\n",
            "270/270 [==============================] - 1s 3ms/step - loss: 0.5266 - accuracy: 0.7802\n",
            "Epoch 80/100\n",
            "270/270 [==============================] - 1s 3ms/step - loss: 0.5266 - accuracy: 0.7802\n",
            "Epoch 81/100\n",
            "270/270 [==============================] - 1s 3ms/step - loss: 0.5266 - accuracy: 0.7802\n",
            "Epoch 82/100\n",
            "270/270 [==============================] - 1s 3ms/step - loss: 0.5266 - accuracy: 0.7802\n",
            "Epoch 83/100\n",
            "270/270 [==============================] - 1s 2ms/step - loss: 0.5266 - accuracy: 0.7802\n",
            "Epoch 84/100\n",
            "270/270 [==============================] - 1s 2ms/step - loss: 0.5266 - accuracy: 0.7802\n",
            "Epoch 85/100\n",
            "270/270 [==============================] - 1s 2ms/step - loss: 0.5266 - accuracy: 0.7802\n",
            "Epoch 86/100\n",
            "270/270 [==============================] - 1s 2ms/step - loss: 0.5266 - accuracy: 0.7802\n",
            "Epoch 87/100\n",
            "270/270 [==============================] - 1s 2ms/step - loss: 0.5266 - accuracy: 0.7802\n",
            "Epoch 88/100\n",
            "270/270 [==============================] - 1s 2ms/step - loss: 0.5266 - accuracy: 0.7802\n",
            "Epoch 89/100\n",
            "270/270 [==============================] - 1s 2ms/step - loss: 0.5266 - accuracy: 0.7802\n",
            "Epoch 90/100\n",
            "270/270 [==============================] - 1s 2ms/step - loss: 0.5266 - accuracy: 0.7802\n",
            "Epoch 91/100\n",
            "270/270 [==============================] - 1s 2ms/step - loss: 0.5266 - accuracy: 0.7802\n",
            "Epoch 92/100\n",
            "270/270 [==============================] - 1s 2ms/step - loss: 0.5266 - accuracy: 0.7802\n",
            "Epoch 93/100\n",
            "270/270 [==============================] - 1s 2ms/step - loss: 0.5266 - accuracy: 0.7802\n",
            "Epoch 94/100\n",
            "270/270 [==============================] - 1s 2ms/step - loss: 0.5266 - accuracy: 0.7802\n",
            "Epoch 95/100\n",
            "270/270 [==============================] - 1s 2ms/step - loss: 0.5266 - accuracy: 0.7802\n",
            "Epoch 96/100\n",
            "270/270 [==============================] - 1s 2ms/step - loss: 0.5266 - accuracy: 0.7802\n",
            "Epoch 97/100\n",
            "270/270 [==============================] - 1s 2ms/step - loss: 0.5266 - accuracy: 0.7802\n",
            "Epoch 98/100\n",
            "270/270 [==============================] - 1s 2ms/step - loss: 0.5266 - accuracy: 0.7802\n",
            "Epoch 99/100\n",
            "270/270 [==============================] - 1s 2ms/step - loss: 0.5266 - accuracy: 0.7802\n",
            "Epoch 100/100\n",
            "270/270 [==============================] - 1s 3ms/step - loss: 0.5266 - accuracy: 0.7802\n"
          ]
        },
        {
          "output_type": "execute_result",
          "data": {
            "text/plain": [
              "<keras.src.callbacks.History at 0x7bde724930d0>"
            ]
          },
          "metadata": {},
          "execution_count": 63
        }
      ]
    },
    {
      "cell_type": "code",
      "source": [
        "y_pred = classifier.predict(X_test)\n",
        "binary_predictions = (y_pred > 0.5).astype(int)\n",
        "binary_predictions"
      ],
      "metadata": {
        "colab": {
          "base_uri": "https://localhost:8080/"
        },
        "id": "9eeIMEw3ZaPk",
        "outputId": "5a3dba24-2465-4c73-b513-f949df155c14"
      },
      "execution_count": null,
      "outputs": [
        {
          "output_type": "stream",
          "name": "stdout",
          "text": [
            "94/94 [==============================] - 0s 4ms/step\n"
          ]
        },
        {
          "output_type": "execute_result",
          "data": {
            "text/plain": [
              "array([[0],\n",
              "       [0],\n",
              "       [0],\n",
              "       ...,\n",
              "       [0],\n",
              "       [0],\n",
              "       [0]])"
            ]
          },
          "metadata": {},
          "execution_count": 65
        }
      ]
    },
    {
      "cell_type": "code",
      "source": [
        "print(\"Accuracy:\", accuracy_score(y_test, binary_predictions))\n",
        "print(confusion_matrix(y_test, binary_predictions))\n",
        "print(classification_report(y_test, binary_predictions))"
      ],
      "metadata": {
        "colab": {
          "base_uri": "https://localhost:8080/"
        },
        "id": "-k7VKU9ZZvQA",
        "outputId": "00d1511a-8970-4d00-fbf7-b3a075296bbe"
      },
      "execution_count": null,
      "outputs": [
        {
          "output_type": "stream",
          "name": "stdout",
          "text": [
            "Accuracy: 0.766\n",
            "[[2298    0]\n",
            " [ 702    0]]\n",
            "              precision    recall  f1-score   support\n",
            "\n",
            "           0       0.77      1.00      0.87      2298\n",
            "           1       0.00      0.00      0.00       702\n",
            "\n",
            "    accuracy                           0.77      3000\n",
            "   macro avg       0.38      0.50      0.43      3000\n",
            "weighted avg       0.59      0.77      0.66      3000\n",
            "\n"
          ]
        },
        {
          "output_type": "stream",
          "name": "stderr",
          "text": [
            "/usr/local/lib/python3.10/dist-packages/sklearn/metrics/_classification.py:1344: UndefinedMetricWarning: Precision and F-score are ill-defined and being set to 0.0 in labels with no predicted samples. Use `zero_division` parameter to control this behavior.\n",
            "  _warn_prf(average, modifier, msg_start, len(result))\n",
            "/usr/local/lib/python3.10/dist-packages/sklearn/metrics/_classification.py:1344: UndefinedMetricWarning: Precision and F-score are ill-defined and being set to 0.0 in labels with no predicted samples. Use `zero_division` parameter to control this behavior.\n",
            "  _warn_prf(average, modifier, msg_start, len(result))\n",
            "/usr/local/lib/python3.10/dist-packages/sklearn/metrics/_classification.py:1344: UndefinedMetricWarning: Precision and F-score are ill-defined and being set to 0.0 in labels with no predicted samples. Use `zero_division` parameter to control this behavior.\n",
            "  _warn_prf(average, modifier, msg_start, len(result))\n"
          ]
        }
      ]
    },
    {
      "cell_type": "code",
      "source": [
        "y_pred = classifier.predict(X_train)\n",
        "binary_predictions = (y_pred > 0.5).astype(int)\n",
        "binary_predictions"
      ],
      "metadata": {
        "colab": {
          "base_uri": "https://localhost:8080/"
        },
        "id": "4EZVXu86Z_em",
        "outputId": "8aced044-e97b-4404-e3bc-213dec3e9170"
      },
      "execution_count": null,
      "outputs": [
        {
          "output_type": "stream",
          "name": "stdout",
          "text": [
            "844/844 [==============================] - 2s 2ms/step\n"
          ]
        },
        {
          "output_type": "execute_result",
          "data": {
            "text/plain": [
              "array([[0],\n",
              "       [0],\n",
              "       [0],\n",
              "       ...,\n",
              "       [0],\n",
              "       [0],\n",
              "       [0]])"
            ]
          },
          "metadata": {},
          "execution_count": 67
        }
      ]
    },
    {
      "cell_type": "code",
      "source": [
        "print(\"Accuracy:\", accuracy_score(y_train, binary_predictions))\n",
        "print(confusion_matrix(y_train, binary_predictions))\n",
        "print(classification_report(y_train, binary_predictions))"
      ],
      "metadata": {
        "colab": {
          "base_uri": "https://localhost:8080/"
        },
        "id": "9vXvKprJZ0pG",
        "outputId": "86f947b5-825f-4cf7-b819-fbeb37dbdf7c"
      },
      "execution_count": null,
      "outputs": [
        {
          "output_type": "stream",
          "name": "stdout",
          "text": [
            "Accuracy: 0.7802222222222223\n",
            "[[21066     0]\n",
            " [ 5934     0]]\n",
            "              precision    recall  f1-score   support\n",
            "\n",
            "           0       0.78      1.00      0.88     21066\n",
            "           1       0.00      0.00      0.00      5934\n",
            "\n",
            "    accuracy                           0.78     27000\n",
            "   macro avg       0.39      0.50      0.44     27000\n",
            "weighted avg       0.61      0.78      0.68     27000\n",
            "\n"
          ]
        },
        {
          "output_type": "stream",
          "name": "stderr",
          "text": [
            "/usr/local/lib/python3.10/dist-packages/sklearn/metrics/_classification.py:1344: UndefinedMetricWarning: Precision and F-score are ill-defined and being set to 0.0 in labels with no predicted samples. Use `zero_division` parameter to control this behavior.\n",
            "  _warn_prf(average, modifier, msg_start, len(result))\n",
            "/usr/local/lib/python3.10/dist-packages/sklearn/metrics/_classification.py:1344: UndefinedMetricWarning: Precision and F-score are ill-defined and being set to 0.0 in labels with no predicted samples. Use `zero_division` parameter to control this behavior.\n",
            "  _warn_prf(average, modifier, msg_start, len(result))\n",
            "/usr/local/lib/python3.10/dist-packages/sklearn/metrics/_classification.py:1344: UndefinedMetricWarning: Precision and F-score are ill-defined and being set to 0.0 in labels with no predicted samples. Use `zero_division` parameter to control this behavior.\n",
            "  _warn_prf(average, modifier, msg_start, len(result))\n"
          ]
        }
      ]
    },
    {
      "cell_type": "code",
      "source": [
        "!pip install tensorflow tf2onnx"
      ],
      "metadata": {
        "colab": {
          "base_uri": "https://localhost:8080/"
        },
        "id": "nb-PIhc5f-0-",
        "outputId": "95cbc271-f2eb-41b6-c037-f7c6e0d11681"
      },
      "execution_count": 74,
      "outputs": [
        {
          "output_type": "stream",
          "name": "stdout",
          "text": [
            "Requirement already satisfied: tensorflow in /usr/local/lib/python3.10/dist-packages (2.15.0)\n",
            "Collecting tf2onnx\n",
            "  Downloading tf2onnx-1.15.1-py3-none-any.whl (454 kB)\n",
            "\u001b[2K     \u001b[90m━━━━━━━━━━━━━━━━━━━━━━━━━━━━━━━━━━━━━━━━\u001b[0m \u001b[32m454.7/454.7 kB\u001b[0m \u001b[31m4.4 MB/s\u001b[0m eta \u001b[36m0:00:00\u001b[0m\n",
            "\u001b[?25hRequirement already satisfied: absl-py>=1.0.0 in /usr/local/lib/python3.10/dist-packages (from tensorflow) (1.4.0)\n",
            "Requirement already satisfied: astunparse>=1.6.0 in /usr/local/lib/python3.10/dist-packages (from tensorflow) (1.6.3)\n",
            "Requirement already satisfied: flatbuffers>=23.5.26 in /usr/local/lib/python3.10/dist-packages (from tensorflow) (23.5.26)\n",
            "Requirement already satisfied: gast!=0.5.0,!=0.5.1,!=0.5.2,>=0.2.1 in /usr/local/lib/python3.10/dist-packages (from tensorflow) (0.5.4)\n",
            "Requirement already satisfied: google-pasta>=0.1.1 in /usr/local/lib/python3.10/dist-packages (from tensorflow) (0.2.0)\n",
            "Requirement already satisfied: h5py>=2.9.0 in /usr/local/lib/python3.10/dist-packages (from tensorflow) (3.9.0)\n",
            "Requirement already satisfied: libclang>=13.0.0 in /usr/local/lib/python3.10/dist-packages (from tensorflow) (16.0.6)\n",
            "Requirement already satisfied: ml-dtypes~=0.2.0 in /usr/local/lib/python3.10/dist-packages (from tensorflow) (0.2.0)\n",
            "Requirement already satisfied: numpy<2.0.0,>=1.23.5 in /usr/local/lib/python3.10/dist-packages (from tensorflow) (1.23.5)\n",
            "Requirement already satisfied: opt-einsum>=2.3.2 in /usr/local/lib/python3.10/dist-packages (from tensorflow) (3.3.0)\n",
            "Requirement already satisfied: packaging in /usr/local/lib/python3.10/dist-packages (from tensorflow) (23.2)\n",
            "Requirement already satisfied: protobuf!=4.21.0,!=4.21.1,!=4.21.2,!=4.21.3,!=4.21.4,!=4.21.5,<5.0.0dev,>=3.20.3 in /usr/local/lib/python3.10/dist-packages (from tensorflow) (3.20.3)\n",
            "Requirement already satisfied: setuptools in /usr/local/lib/python3.10/dist-packages (from tensorflow) (67.7.2)\n",
            "Requirement already satisfied: six>=1.12.0 in /usr/local/lib/python3.10/dist-packages (from tensorflow) (1.16.0)\n",
            "Requirement already satisfied: termcolor>=1.1.0 in /usr/local/lib/python3.10/dist-packages (from tensorflow) (2.4.0)\n",
            "Requirement already satisfied: typing-extensions>=3.6.6 in /usr/local/lib/python3.10/dist-packages (from tensorflow) (4.5.0)\n",
            "Requirement already satisfied: wrapt<1.15,>=1.11.0 in /usr/local/lib/python3.10/dist-packages (from tensorflow) (1.14.1)\n",
            "Requirement already satisfied: tensorflow-io-gcs-filesystem>=0.23.1 in /usr/local/lib/python3.10/dist-packages (from tensorflow) (0.34.0)\n",
            "Requirement already satisfied: grpcio<2.0,>=1.24.3 in /usr/local/lib/python3.10/dist-packages (from tensorflow) (1.60.0)\n",
            "Requirement already satisfied: tensorboard<2.16,>=2.15 in /usr/local/lib/python3.10/dist-packages (from tensorflow) (2.15.1)\n",
            "Requirement already satisfied: tensorflow-estimator<2.16,>=2.15.0 in /usr/local/lib/python3.10/dist-packages (from tensorflow) (2.15.0)\n",
            "Requirement already satisfied: keras<2.16,>=2.15.0 in /usr/local/lib/python3.10/dist-packages (from tensorflow) (2.15.0)\n",
            "Requirement already satisfied: onnx>=1.4.1 in /usr/local/lib/python3.10/dist-packages (from tf2onnx) (1.15.0)\n",
            "Requirement already satisfied: requests in /usr/local/lib/python3.10/dist-packages (from tf2onnx) (2.31.0)\n",
            "Requirement already satisfied: wheel<1.0,>=0.23.0 in /usr/local/lib/python3.10/dist-packages (from astunparse>=1.6.0->tensorflow) (0.42.0)\n",
            "Requirement already satisfied: google-auth<3,>=1.6.3 in /usr/local/lib/python3.10/dist-packages (from tensorboard<2.16,>=2.15->tensorflow) (2.17.3)\n",
            "Requirement already satisfied: google-auth-oauthlib<2,>=0.5 in /usr/local/lib/python3.10/dist-packages (from tensorboard<2.16,>=2.15->tensorflow) (1.2.0)\n",
            "Requirement already satisfied: markdown>=2.6.8 in /usr/local/lib/python3.10/dist-packages (from tensorboard<2.16,>=2.15->tensorflow) (3.5.1)\n",
            "Requirement already satisfied: tensorboard-data-server<0.8.0,>=0.7.0 in /usr/local/lib/python3.10/dist-packages (from tensorboard<2.16,>=2.15->tensorflow) (0.7.2)\n",
            "Requirement already satisfied: werkzeug>=1.0.1 in /usr/local/lib/python3.10/dist-packages (from tensorboard<2.16,>=2.15->tensorflow) (3.0.1)\n",
            "Requirement already satisfied: charset-normalizer<4,>=2 in /usr/local/lib/python3.10/dist-packages (from requests->tf2onnx) (3.3.2)\n",
            "Requirement already satisfied: idna<4,>=2.5 in /usr/local/lib/python3.10/dist-packages (from requests->tf2onnx) (3.6)\n",
            "Requirement already satisfied: urllib3<3,>=1.21.1 in /usr/local/lib/python3.10/dist-packages (from requests->tf2onnx) (2.0.7)\n",
            "Requirement already satisfied: certifi>=2017.4.17 in /usr/local/lib/python3.10/dist-packages (from requests->tf2onnx) (2023.11.17)\n",
            "Requirement already satisfied: cachetools<6.0,>=2.0.0 in /usr/local/lib/python3.10/dist-packages (from google-auth<3,>=1.6.3->tensorboard<2.16,>=2.15->tensorflow) (5.3.2)\n",
            "Requirement already satisfied: pyasn1-modules>=0.2.1 in /usr/local/lib/python3.10/dist-packages (from google-auth<3,>=1.6.3->tensorboard<2.16,>=2.15->tensorflow) (0.3.0)\n",
            "Requirement already satisfied: rsa<5,>=3.1.4 in /usr/local/lib/python3.10/dist-packages (from google-auth<3,>=1.6.3->tensorboard<2.16,>=2.15->tensorflow) (4.9)\n",
            "Requirement already satisfied: requests-oauthlib>=0.7.0 in /usr/local/lib/python3.10/dist-packages (from google-auth-oauthlib<2,>=0.5->tensorboard<2.16,>=2.15->tensorflow) (1.3.1)\n",
            "Requirement already satisfied: MarkupSafe>=2.1.1 in /usr/local/lib/python3.10/dist-packages (from werkzeug>=1.0.1->tensorboard<2.16,>=2.15->tensorflow) (2.1.3)\n",
            "Requirement already satisfied: pyasn1<0.6.0,>=0.4.6 in /usr/local/lib/python3.10/dist-packages (from pyasn1-modules>=0.2.1->google-auth<3,>=1.6.3->tensorboard<2.16,>=2.15->tensorflow) (0.5.1)\n",
            "Requirement already satisfied: oauthlib>=3.0.0 in /usr/local/lib/python3.10/dist-packages (from requests-oauthlib>=0.7.0->google-auth-oauthlib<2,>=0.5->tensorboard<2.16,>=2.15->tensorflow) (3.2.2)\n",
            "Installing collected packages: tf2onnx\n",
            "Successfully installed tf2onnx-1.15.1\n"
          ]
        }
      ]
    },
    {
      "cell_type": "code",
      "source": [
        "import tensorflow as tf\n",
        "import tf2onnx"
      ],
      "metadata": {
        "id": "-R5LU8TsgIzV"
      },
      "execution_count": 76,
      "outputs": []
    },
    {
      "cell_type": "code",
      "source": [
        "onnx_model, _ = tf2onnx.convert.from_keras(classifier)\n",
        "\n",
        "# Save the ONNX model to a file\n",
        "onnx_file_path = \"neural_network_model.onnx\"\n",
        "with open(onnx_file_path, \"wb\") as f:\n",
        "    f.write(onnx_model.SerializeToString())"
      ],
      "metadata": {
        "colab": {
          "base_uri": "https://localhost:8080/"
        },
        "id": "s2DIIB3rgUAO",
        "outputId": "734e0d0d-de5f-400b-8f9e-1092e749a846"
      },
      "execution_count": 77,
      "outputs": [
        {
          "output_type": "stream",
          "name": "stderr",
          "text": [
            "WARNING:tf2onnx.tf_loader:Could not search for non-variable resources. Concrete function internal representation may have changed.\n"
          ]
        }
      ]
    },
    {
      "cell_type": "code",
      "source": [],
      "metadata": {
        "id": "yndOHx-sghF-"
      },
      "execution_count": null,
      "outputs": []
    }
  ]
}